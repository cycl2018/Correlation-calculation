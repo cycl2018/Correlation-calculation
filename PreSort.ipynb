{
  "nbformat": 4,
  "nbformat_minor": 5,
  "metadata": {
    "kernelspec": {
      "display_name": "Python 3",
      "language": "python",
      "name": "python3"
    },
    "language_info": {
      "codemirror_mode": {
        "name": "ipython",
        "version": 3
      },
      "file_extension": ".py",
      "mimetype": "text/x-python",
      "name": "python",
      "nbconvert_exporter": "python",
      "pygments_lexer": "ipython3",
      "version": "3.8.8"
    },
    "colab": {
      "name": "PreSort.ipynb",
      "provenance": []
    }
  },
  "cells": [
    {
      "cell_type": "code",
      "metadata": {
        "id": "8b137404"
      },
      "source": [
        "import pandas as pd\n",
        "import numpy as np\n",
        "import os\n",
        "import time, datetime\n",
        "import matplotlib.pyplot as plt"
      ],
      "id": "8b137404",
      "execution_count": null,
      "outputs": []
    },
    {
      "cell_type": "code",
      "metadata": {
        "id": "d0f2d0e5"
      },
      "source": [
        "#2020-11-02 18:51:24.674845\n",
        "#67884674845\n",
        "def get_time_stamp(time):\n",
        "    hh = int(time[11:11+2])\n",
        "    mm = int(time[14:14+2])\n",
        "    ii = int(time[17:17+2])\n",
        "    res = hh*3600+mm*60+ii\n",
        "    for i in range(20,len(time)):\n",
        "        res=res*10+ord(time[i])-ord('0')\n",
        "    return res"
      ],
      "id": "d0f2d0e5",
      "execution_count": null,
      "outputs": []
    },
    {
      "cell_type": "code",
      "metadata": {
        "id": "837ae5da"
      },
      "source": [
        "train_data_c = pd.read_csv('CCF2021_run_record_c_Train.csv')\n",
        "train_data_p = pd.read_csv('CCF2021_run_record_p_Train.csv')\n",
        "train_data_label = pd.read_csv('CCF2021_run_label_Train.csv')\n",
        "test_data_c = pd.read_csv('CCF2021_run_record_c_EvalA.csv')\n",
        "test_data_p = pd.read_csv('CCF2021_run_record_p_EvalA.csv')"
      ],
      "id": "837ae5da",
      "execution_count": null,
      "outputs": []
    },
    {
      "cell_type": "code",
      "metadata": {
        "id": "a29012bc"
      },
      "source": [
        "label_p_id = train_data_label['人员编号']\n",
        "label_c_id = train_data_label['特征码']\n",
        "answer = {label_p_id[i]:label_c_id[i] for i in range(len(label_p_id))}"
      ],
      "id": "a29012bc",
      "execution_count": null,
      "outputs": []
    },
    {
      "cell_type": "code",
      "metadata": {
        "colab": {
          "base_uri": "https://localhost:8080/"
        },
        "id": "e7a2f3bf",
        "outputId": "9683a1c1-a4b8-4485-b6dc-a0e082583a1b"
      },
      "source": [
        "%%time\n",
        "train_data_c.sort_values(by = '发现时间',axis = 0,ascending = True,inplace=True)\n",
        "train_data_p.sort_values(by = '发现时间',axis = 0,ascending = True,inplace=True)\n",
        "test_data_c.sort_values(by = '发现时间',axis = 0,ascending = True,inplace=True)\n",
        "test_data_p.sort_values(by = '发现时间',axis = 0,ascending = True,inplace=True)"
      ],
      "id": "e7a2f3bf",
      "execution_count": null,
      "outputs": [
        {
          "output_type": "stream",
          "name": "stdout",
          "text": [
            "CPU times: user 393 ms, sys: 4.67 ms, total: 398 ms\n",
            "Wall time: 409 ms\n"
          ]
        }
      ]
    },
    {
      "cell_type": "code",
      "metadata": {
        "colab": {
          "base_uri": "https://localhost:8080/"
        },
        "id": "60fa8044",
        "outputId": "c07b53ff-a499-4b6b-e3d7-f173faa1bc64"
      },
      "source": [
        "%%time\n",
        "train_data_c['time'] = train_data_c['发现时间'].apply(lambda x:get_time_stamp(x))\n",
        "train_data_p['time'] = train_data_p['发现时间'].apply(lambda x:get_time_stamp(x))\n",
        "test_data_c['time'] = test_data_c['发现时间'].apply(lambda x:get_time_stamp(x))\n",
        "test_data_p['time'] = test_data_p['发现时间'].apply(lambda x:get_time_stamp(x))"
      ],
      "id": "60fa8044",
      "execution_count": null,
      "outputs": [
        {
          "output_type": "stream",
          "name": "stdout",
          "text": [
            "CPU times: user 1.4 s, sys: 29.3 ms, total: 1.42 s\n",
            "Wall time: 1.44 s\n"
          ]
        }
      ]
    },
    {
      "cell_type": "code",
      "metadata": {
        "id": "ed12bc61"
      },
      "source": [
        "#train_data_c.drop(['经度','纬度'],axis=1,inplace=True)\n",
        "#train_data_p.drop(['经度','纬度'],axis=1,inplace=True)"
      ],
      "id": "ed12bc61",
      "execution_count": null,
      "outputs": []
    },
    {
      "cell_type": "code",
      "metadata": {
        "colab": {
          "base_uri": "https://localhost:8080/"
        },
        "id": "c1013116",
        "outputId": "53923d62-5a41-4c81-dd8a-8c1beb300d9c"
      },
      "source": [
        "%%time\n",
        "c_map = {}\n",
        "p_map = {}\n",
        "c_ids = []\n",
        "p_ids = []\n",
        "cid_len = {}\n",
        "def init(data_c,data_p):\n",
        "    global c_ids,p_ids,c_map,p_map,cid_len\n",
        "    c_map = {}\n",
        "    p_map = {}\n",
        "    c_ids = []\n",
        "    p_ids = []\n",
        "    cid_len = {}\n",
        "    c_ids = data_c['特征码'].unique().tolist()\n",
        "    p_ids = data_p['人员编号'].unique().tolist()\n",
        "    dfs = data_c.groupby(['特征码','点位编号'])\n",
        "    for df in dfs:\n",
        "        c_map[df[0]] = df[1].values.tolist()\n",
        "    dfs = data_c.groupby(['特征码'])\n",
        "    for df in dfs:\n",
        "        c_map[df[0]] = df[1].values.tolist()\n",
        "    dfs = data_c.groupby(['点位编号'])\n",
        "    for df in dfs:\n",
        "        c_map[df[0]] = df[1].values.tolist()\n",
        "    dfs = data_p.groupby(['人员编号'])\n",
        "    for df in dfs:\n",
        "        p_map[df[0]] = df[1].values.tolist()\n",
        "    for c_id in c_ids:\n",
        "        cid_len[c_id] = len(c_map[c_id])\n",
        "    print(len(c_ids),len(p_ids))"
      ],
      "id": "c1013116",
      "execution_count": null,
      "outputs": [
        {
          "output_type": "stream",
          "name": "stdout",
          "text": [
            "CPU times: user 6 µs, sys: 0 ns, total: 6 µs\n",
            "Wall time: 9.54 µs\n"
          ]
        }
      ]
    },
    {
      "cell_type": "code",
      "metadata": {
        "id": "5d23aaa4"
      },
      "source": [
        "###粗排###"
      ],
      "id": "5d23aaa4",
      "execution_count": null,
      "outputs": []
    },
    {
      "cell_type": "code",
      "metadata": {
        "id": "30d28de1"
      },
      "source": [
        "cid_value_number = {}\n",
        "def add_values(time,d_id,iters=1000):\n",
        "    global c_ids,p_ids,c_map,p_map,cid_len,cid_value_number\n",
        "    n = len(c_map[d_id])\n",
        "    data_d_list = c_map[d_id]\n",
        "    lb = 0\n",
        "    ub = n-1\n",
        "    ans=-1\n",
        "    while ub>=lb:\n",
        "        mid = (lb+ub) // 2\n",
        "        if data_d_list[mid][5]<=time:\n",
        "            ans=mid\n",
        "            lb=mid+1\n",
        "        else:\n",
        "            ub=mid-1\n",
        "    cid_set = set()\n",
        "    for i in range(ans,-1,-1):\n",
        "        cid = data_d_list[i][4]\n",
        "        if cid in cid_set:\n",
        "            continue\n",
        "        cid_set.add(cid)\n",
        "        value = time - data_d_list[i][5]\n",
        "        if value > 80000000:\n",
        "          break\n",
        "        cid_value_number.setdefault(cid,[0,0])\n",
        "        cid_value_number[cid][0]+=value\n",
        "        cid_value_number[cid][1]+=1"
      ],
      "id": "30d28de1",
      "execution_count": null,
      "outputs": []
    },
    {
      "cell_type": "code",
      "metadata": {
        "id": "c70e8cfe"
      },
      "source": [
        "def work(data_c,data_p,name):\n",
        "    global c_ids,p_ids,c_map,p_map,cid_len,answer,cid_value_number\n",
        "    init(data_c,data_p)\n",
        "    new_c_ids = []\n",
        "    new_p_ids = []\n",
        "    answer_number,possible_number = 0,0\n",
        "    label = []\n",
        "    for p_id in p_ids:\n",
        "        cid_value_number = {}\n",
        "        data_p_list = p_map[p_id]\n",
        "        for i in range(len(data_p_list)):\n",
        "            add_values(data_p_list[i][5],data_p_list[i][0])\n",
        "        f = 0\n",
        "        pp_c_ids = []\n",
        "        for c_id in cid_value_number:\n",
        "            value = cid_value_number[c_id]\n",
        "            pp_c_ids.append((c_id,(-value[1],cid_len[c_id],value[0])))\n",
        "        pp_c_ids.sort(key=lambda x:x[1])\n",
        "        for i in range(min(200,len(pp_c_ids))):\n",
        "            c_id = pp_c_ids[i][0]\n",
        "            possible_number+=1\n",
        "            if c_id==answer.get(p_id,-1):\n",
        "                answer_number+=1\n",
        "                label.append(1)\n",
        "            else:\n",
        "                label.append(0)\n",
        "            new_c_ids.append(c_id)\n",
        "            new_p_ids.append(p_id)\n",
        "    print(name,answer_number,possible_number)\n",
        "    if name=='train':\n",
        "        feature = pd.DataFrame({'c_id':new_c_ids,\n",
        "                                'p_id':new_p_ids,\n",
        "                                'label':label})\n",
        "    else:\n",
        "        feature = pd.DataFrame({'c_id':new_c_ids,\n",
        "                                'p_id':new_p_ids})\n",
        "    feature.to_csv(name+'_presort.csv',index=False)"
      ],
      "id": "c70e8cfe",
      "execution_count": null,
      "outputs": []
    },
    {
      "cell_type": "code",
      "metadata": {
        "colab": {
          "base_uri": "https://localhost:8080/"
        },
        "id": "6f5d6b34",
        "outputId": "9e3d4a19-afd6-4f77-eda9-8b82c494b65e"
      },
      "source": [
        "%%time\n",
        "work(train_data_c,train_data_p,'train')\n",
        "work(test_data_c,test_data_p,'test')"
      ],
      "id": "6f5d6b34",
      "execution_count": null,
      "outputs": [
        {
          "output_type": "stream",
          "name": "stdout",
          "text": [
            "10000 1997\n",
            "train 1987 398338\n",
            "10000 996\n",
            "test 0 196382\n",
            "CPU times: user 31.3 s, sys: 1.5 s, total: 32.8 s\n",
            "Wall time: 31.1 s\n"
          ]
        }
      ]
    },
    {
      "cell_type": "code",
      "metadata": {
        "colab": {
          "base_uri": "https://localhost:8080/",
          "height": 979
        },
        "id": "8e3149ac",
        "outputId": "3f2124e7-a852-4c0c-af3d-3d0670f3f12a"
      },
      "source": [
        "df = pd.read_csv('train_presort.csv')\n",
        "df.head(30)"
      ],
      "id": "8e3149ac",
      "execution_count": null,
      "outputs": [
        {
          "output_type": "execute_result",
          "data": {
            "text/html": [
              "<div>\n",
              "<style scoped>\n",
              "    .dataframe tbody tr th:only-of-type {\n",
              "        vertical-align: middle;\n",
              "    }\n",
              "\n",
              "    .dataframe tbody tr th {\n",
              "        vertical-align: top;\n",
              "    }\n",
              "\n",
              "    .dataframe thead th {\n",
              "        text-align: right;\n",
              "    }\n",
              "</style>\n",
              "<table border=\"1\" class=\"dataframe\">\n",
              "  <thead>\n",
              "    <tr style=\"text-align: right;\">\n",
              "      <th></th>\n",
              "      <th>c_id</th>\n",
              "      <th>p_id</th>\n",
              "      <th>label</th>\n",
              "    </tr>\n",
              "  </thead>\n",
              "  <tbody>\n",
              "    <tr>\n",
              "      <th>0</th>\n",
              "      <td>CY1r8Eov</td>\n",
              "      <td>P0099</td>\n",
              "      <td>0</td>\n",
              "    </tr>\n",
              "    <tr>\n",
              "      <th>1</th>\n",
              "      <td>CjD8XlTz</td>\n",
              "      <td>P0099</td>\n",
              "      <td>0</td>\n",
              "    </tr>\n",
              "    <tr>\n",
              "      <th>2</th>\n",
              "      <td>C1b6QpCZ</td>\n",
              "      <td>P0099</td>\n",
              "      <td>0</td>\n",
              "    </tr>\n",
              "    <tr>\n",
              "      <th>3</th>\n",
              "      <td>C1uhR4YE</td>\n",
              "      <td>P0099</td>\n",
              "      <td>0</td>\n",
              "    </tr>\n",
              "    <tr>\n",
              "      <th>4</th>\n",
              "      <td>CwhkYNEx</td>\n",
              "      <td>P0099</td>\n",
              "      <td>0</td>\n",
              "    </tr>\n",
              "    <tr>\n",
              "      <th>5</th>\n",
              "      <td>ChJfiEOd</td>\n",
              "      <td>P0099</td>\n",
              "      <td>0</td>\n",
              "    </tr>\n",
              "    <tr>\n",
              "      <th>6</th>\n",
              "      <td>C7GTsSLv</td>\n",
              "      <td>P0099</td>\n",
              "      <td>0</td>\n",
              "    </tr>\n",
              "    <tr>\n",
              "      <th>7</th>\n",
              "      <td>C3ukdWrT</td>\n",
              "      <td>P0099</td>\n",
              "      <td>0</td>\n",
              "    </tr>\n",
              "    <tr>\n",
              "      <th>8</th>\n",
              "      <td>CVUKwvDa</td>\n",
              "      <td>P0099</td>\n",
              "      <td>0</td>\n",
              "    </tr>\n",
              "    <tr>\n",
              "      <th>9</th>\n",
              "      <td>Cs3NVkxt</td>\n",
              "      <td>P0099</td>\n",
              "      <td>0</td>\n",
              "    </tr>\n",
              "    <tr>\n",
              "      <th>10</th>\n",
              "      <td>CVlvFXzN</td>\n",
              "      <td>P0099</td>\n",
              "      <td>0</td>\n",
              "    </tr>\n",
              "    <tr>\n",
              "      <th>11</th>\n",
              "      <td>Cr5Y0yk2</td>\n",
              "      <td>P0099</td>\n",
              "      <td>0</td>\n",
              "    </tr>\n",
              "    <tr>\n",
              "      <th>12</th>\n",
              "      <td>CuGzly5U</td>\n",
              "      <td>P0099</td>\n",
              "      <td>0</td>\n",
              "    </tr>\n",
              "    <tr>\n",
              "      <th>13</th>\n",
              "      <td>CSDHmML2</td>\n",
              "      <td>P0099</td>\n",
              "      <td>0</td>\n",
              "    </tr>\n",
              "    <tr>\n",
              "      <th>14</th>\n",
              "      <td>Cnrq9sz4</td>\n",
              "      <td>P0099</td>\n",
              "      <td>0</td>\n",
              "    </tr>\n",
              "    <tr>\n",
              "      <th>15</th>\n",
              "      <td>CaPfot84</td>\n",
              "      <td>P0099</td>\n",
              "      <td>0</td>\n",
              "    </tr>\n",
              "    <tr>\n",
              "      <th>16</th>\n",
              "      <td>CXl5fbSN</td>\n",
              "      <td>P0099</td>\n",
              "      <td>0</td>\n",
              "    </tr>\n",
              "    <tr>\n",
              "      <th>17</th>\n",
              "      <td>ChOtg753</td>\n",
              "      <td>P0099</td>\n",
              "      <td>0</td>\n",
              "    </tr>\n",
              "    <tr>\n",
              "      <th>18</th>\n",
              "      <td>CzRTjNQP</td>\n",
              "      <td>P0099</td>\n",
              "      <td>0</td>\n",
              "    </tr>\n",
              "    <tr>\n",
              "      <th>19</th>\n",
              "      <td>C1Tgmody</td>\n",
              "      <td>P0099</td>\n",
              "      <td>0</td>\n",
              "    </tr>\n",
              "    <tr>\n",
              "      <th>20</th>\n",
              "      <td>CYrOBEI8</td>\n",
              "      <td>P0099</td>\n",
              "      <td>0</td>\n",
              "    </tr>\n",
              "    <tr>\n",
              "      <th>21</th>\n",
              "      <td>CdYewcPq</td>\n",
              "      <td>P0099</td>\n",
              "      <td>0</td>\n",
              "    </tr>\n",
              "    <tr>\n",
              "      <th>22</th>\n",
              "      <td>C7mTBf5u</td>\n",
              "      <td>P0099</td>\n",
              "      <td>0</td>\n",
              "    </tr>\n",
              "    <tr>\n",
              "      <th>23</th>\n",
              "      <td>CJK1jiW9</td>\n",
              "      <td>P0099</td>\n",
              "      <td>0</td>\n",
              "    </tr>\n",
              "    <tr>\n",
              "      <th>24</th>\n",
              "      <td>C7Pnvot1</td>\n",
              "      <td>P0099</td>\n",
              "      <td>0</td>\n",
              "    </tr>\n",
              "    <tr>\n",
              "      <th>25</th>\n",
              "      <td>CZKB1pYR</td>\n",
              "      <td>P0099</td>\n",
              "      <td>0</td>\n",
              "    </tr>\n",
              "    <tr>\n",
              "      <th>26</th>\n",
              "      <td>CBTw3fec</td>\n",
              "      <td>P0099</td>\n",
              "      <td>0</td>\n",
              "    </tr>\n",
              "    <tr>\n",
              "      <th>27</th>\n",
              "      <td>CsZmYCFO</td>\n",
              "      <td>P0099</td>\n",
              "      <td>1</td>\n",
              "    </tr>\n",
              "    <tr>\n",
              "      <th>28</th>\n",
              "      <td>C4LBtrpd</td>\n",
              "      <td>P0099</td>\n",
              "      <td>0</td>\n",
              "    </tr>\n",
              "    <tr>\n",
              "      <th>29</th>\n",
              "      <td>C9aqhTs3</td>\n",
              "      <td>P0099</td>\n",
              "      <td>0</td>\n",
              "    </tr>\n",
              "  </tbody>\n",
              "</table>\n",
              "</div>"
            ],
            "text/plain": [
              "        c_id   p_id  label\n",
              "0   CY1r8Eov  P0099      0\n",
              "1   CjD8XlTz  P0099      0\n",
              "2   C1b6QpCZ  P0099      0\n",
              "3   C1uhR4YE  P0099      0\n",
              "4   CwhkYNEx  P0099      0\n",
              "5   ChJfiEOd  P0099      0\n",
              "6   C7GTsSLv  P0099      0\n",
              "7   C3ukdWrT  P0099      0\n",
              "8   CVUKwvDa  P0099      0\n",
              "9   Cs3NVkxt  P0099      0\n",
              "10  CVlvFXzN  P0099      0\n",
              "11  Cr5Y0yk2  P0099      0\n",
              "12  CuGzly5U  P0099      0\n",
              "13  CSDHmML2  P0099      0\n",
              "14  Cnrq9sz4  P0099      0\n",
              "15  CaPfot84  P0099      0\n",
              "16  CXl5fbSN  P0099      0\n",
              "17  ChOtg753  P0099      0\n",
              "18  CzRTjNQP  P0099      0\n",
              "19  C1Tgmody  P0099      0\n",
              "20  CYrOBEI8  P0099      0\n",
              "21  CdYewcPq  P0099      0\n",
              "22  C7mTBf5u  P0099      0\n",
              "23  CJK1jiW9  P0099      0\n",
              "24  C7Pnvot1  P0099      0\n",
              "25  CZKB1pYR  P0099      0\n",
              "26  CBTw3fec  P0099      0\n",
              "27  CsZmYCFO  P0099      1\n",
              "28  C4LBtrpd  P0099      0\n",
              "29  C9aqhTs3  P0099      0"
            ]
          },
          "metadata": {},
          "execution_count": 19
        }
      ]
    }
  ]
}