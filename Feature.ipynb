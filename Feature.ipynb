{
  "nbformat": 4,
  "nbformat_minor": 5,
  "metadata": {
    "kernelspec": {
      "display_name": "Python 3",
      "language": "python",
      "name": "python3"
    },
    "language_info": {
      "codemirror_mode": {
        "name": "ipython",
        "version": 3
      },
      "file_extension": ".py",
      "mimetype": "text/x-python",
      "name": "python",
      "nbconvert_exporter": "python",
      "pygments_lexer": "ipython3",
      "version": "3.8.8"
    },
    "colab": {
      "name": "Feature.ipynb",
      "provenance": []
    }
  },
  "cells": [
    {
      "cell_type": "code",
      "metadata": {
        "id": "8b137404"
      },
      "source": [
        "import pandas as pd\n",
        "import numpy as np\n",
        "import os\n",
        "import time, datetime\n",
        "import matplotlib.pyplot as plt"
      ],
      "id": "8b137404",
      "execution_count": 3,
      "outputs": []
    },
    {
      "cell_type": "code",
      "metadata": {
        "colab": {
          "base_uri": "https://localhost:8080/"
        },
        "id": "XYUCbcLUGiVo",
        "outputId": "e6e2781a-05b5-4103-e403-92de3396fa13"
      },
      "source": [
        "from google.colab import drive\n",
        "drive.mount('/content/drive')"
      ],
      "id": "XYUCbcLUGiVo",
      "execution_count": 4,
      "outputs": [
        {
          "output_type": "stream",
          "name": "stdout",
          "text": [
            "Drive already mounted at /content/drive; to attempt to forcibly remount, call drive.mount(\"/content/drive\", force_remount=True).\n"
          ]
        }
      ]
    },
    {
      "cell_type": "code",
      "metadata": {
        "id": "d0f2d0e5"
      },
      "source": [
        "#2020-11-02 18:51:24.674845\n",
        "#67884674845\n",
        "def get_time_stamp(time):\n",
        "    hh = int(time[11:11+2])\n",
        "    mm = int(time[14:14+2])\n",
        "    ii = int(time[17:17+2])\n",
        "    res = hh*3600+mm*60+ii\n",
        "    for i in range(20,len(time)):\n",
        "        res=res*10+ord(time[i])-ord('0')\n",
        "    return res"
      ],
      "id": "d0f2d0e5",
      "execution_count": 5,
      "outputs": []
    },
    {
      "cell_type": "code",
      "metadata": {
        "id": "837ae5da"
      },
      "source": [
        "train_data_c = pd.read_csv('CCF2021_run_record_c_Train.csv')\n",
        "train_data_p = pd.read_csv('CCF2021_run_record_p_Train.csv')\n",
        "train_data_label = pd.read_csv('CCF2021_run_label_Train.csv')\n",
        "test_data_c = pd.read_csv('CCF2021_run_record_c_EvalA.csv')\n",
        "test_data_p = pd.read_csv('CCF2021_run_record_p_EvalA.csv')\n",
        "train_data_pre = pd.read_csv('train_presort.csv')\n",
        "test_data_pre = pd.read_csv('test_presort.csv')"
      ],
      "id": "837ae5da",
      "execution_count": 6,
      "outputs": []
    },
    {
      "cell_type": "code",
      "metadata": {
        "id": "a29012bc"
      },
      "source": [
        "label_p_id = train_data_label['人员编号']\n",
        "label_c_id = train_data_label['特征码']\n",
        "answer = {label_p_id[i]:label_c_id[i] for i in range(len(label_p_id))}"
      ],
      "id": "a29012bc",
      "execution_count": 7,
      "outputs": []
    },
    {
      "cell_type": "code",
      "metadata": {
        "colab": {
          "base_uri": "https://localhost:8080/"
        },
        "id": "e7a2f3bf",
        "outputId": "8aa129c4-d982-4e8a-fbba-658b0ba64a66"
      },
      "source": [
        "%%time\n",
        "train_data_c.sort_values(by = '发现时间',axis = 0,ascending = True,inplace=True)\n",
        "train_data_p.sort_values(by = '发现时间',axis = 0,ascending = True,inplace=True)\n",
        "test_data_c.sort_values(by = '发现时间',axis = 0,ascending = True,inplace=True)\n",
        "test_data_p.sort_values(by = '发现时间',axis = 0,ascending = True,inplace=True)"
      ],
      "id": "e7a2f3bf",
      "execution_count": 8,
      "outputs": [
        {
          "output_type": "stream",
          "name": "stdout",
          "text": [
            "CPU times: user 377 ms, sys: 1.43 ms, total: 379 ms\n",
            "Wall time: 377 ms\n"
          ]
        }
      ]
    },
    {
      "cell_type": "code",
      "metadata": {
        "colab": {
          "base_uri": "https://localhost:8080/"
        },
        "id": "60fa8044",
        "outputId": "b8a6ab72-7a12-4182-9cda-1db29cf68569"
      },
      "source": [
        "%%time\n",
        "train_data_c['time'] = train_data_c['发现时间'].apply(lambda x:get_time_stamp(x))\n",
        "train_data_p['time'] = train_data_p['发现时间'].apply(lambda x:get_time_stamp(x))\n",
        "test_data_c['time'] = test_data_c['发现时间'].apply(lambda x:get_time_stamp(x))\n",
        "test_data_p['time'] = test_data_p['发现时间'].apply(lambda x:get_time_stamp(x))"
      ],
      "id": "60fa8044",
      "execution_count": 9,
      "outputs": [
        {
          "output_type": "stream",
          "name": "stdout",
          "text": [
            "CPU times: user 1.37 s, sys: 9.22 ms, total: 1.38 s\n",
            "Wall time: 1.39 s\n"
          ]
        }
      ]
    },
    {
      "cell_type": "code",
      "metadata": {
        "colab": {
          "base_uri": "https://localhost:8080/",
          "height": 204
        },
        "id": "1CCaCnTcK2bp",
        "outputId": "239be95c-c1a1-4baa-fcd5-e0d246959dbd"
      },
      "source": [
        "train_data_p.head()"
      ],
      "id": "1CCaCnTcK2bp",
      "execution_count": 15,
      "outputs": [
        {
          "output_type": "execute_result",
          "data": {
            "text/html": [
              "<div>\n",
              "<style scoped>\n",
              "    .dataframe tbody tr th:only-of-type {\n",
              "        vertical-align: middle;\n",
              "    }\n",
              "\n",
              "    .dataframe tbody tr th {\n",
              "        vertical-align: top;\n",
              "    }\n",
              "\n",
              "    .dataframe thead th {\n",
              "        text-align: right;\n",
              "    }\n",
              "</style>\n",
              "<table border=\"1\" class=\"dataframe\">\n",
              "  <thead>\n",
              "    <tr style=\"text-align: right;\">\n",
              "      <th></th>\n",
              "      <th>点位编号</th>\n",
              "      <th>经度</th>\n",
              "      <th>纬度</th>\n",
              "      <th>发现时间</th>\n",
              "      <th>人员编号</th>\n",
              "      <th>time</th>\n",
              "    </tr>\n",
              "  </thead>\n",
              "  <tbody>\n",
              "    <tr>\n",
              "      <th>0</th>\n",
              "      <td>D00</td>\n",
              "      <td>118.3765</td>\n",
              "      <td>31.2352</td>\n",
              "      <td>2020-11-02 08:10:42.879587</td>\n",
              "      <td>P0099</td>\n",
              "      <td>29442879587</td>\n",
              "    </tr>\n",
              "    <tr>\n",
              "      <th>1794</th>\n",
              "      <td>D01</td>\n",
              "      <td>118.3759</td>\n",
              "      <td>31.2352</td>\n",
              "      <td>2020-11-02 08:11:47.917536</td>\n",
              "      <td>P0099</td>\n",
              "      <td>29507917536</td>\n",
              "    </tr>\n",
              "    <tr>\n",
              "      <th>1</th>\n",
              "      <td>D00</td>\n",
              "      <td>118.3765</td>\n",
              "      <td>31.2352</td>\n",
              "      <td>2020-11-02 08:12:01.331801</td>\n",
              "      <td>P0000</td>\n",
              "      <td>29521331801</td>\n",
              "    </tr>\n",
              "    <tr>\n",
              "      <th>2</th>\n",
              "      <td>D00</td>\n",
              "      <td>118.3765</td>\n",
              "      <td>31.2352</td>\n",
              "      <td>2020-11-02 08:12:21.188113</td>\n",
              "      <td>P0031</td>\n",
              "      <td>29541188113</td>\n",
              "    </tr>\n",
              "    <tr>\n",
              "      <th>3</th>\n",
              "      <td>D00</td>\n",
              "      <td>118.3765</td>\n",
              "      <td>31.2352</td>\n",
              "      <td>2020-11-02 08:12:26.102236</td>\n",
              "      <td>P0038</td>\n",
              "      <td>29546102236</td>\n",
              "    </tr>\n",
              "  </tbody>\n",
              "</table>\n",
              "</div>"
            ],
            "text/plain": [
              "     点位编号        经度       纬度                        发现时间   人员编号         time\n",
              "0     D00  118.3765  31.2352  2020-11-02 08:10:42.879587  P0099  29442879587\n",
              "1794  D01  118.3759  31.2352  2020-11-02 08:11:47.917536  P0099  29507917536\n",
              "1     D00  118.3765  31.2352  2020-11-02 08:12:01.331801  P0000  29521331801\n",
              "2     D00  118.3765  31.2352  2020-11-02 08:12:21.188113  P0031  29541188113\n",
              "3     D00  118.3765  31.2352  2020-11-02 08:12:26.102236  P0038  29546102236"
            ]
          },
          "metadata": {},
          "execution_count": 15
        }
      ]
    },
    {
      "cell_type": "code",
      "metadata": {
        "id": "ed12bc61"
      },
      "source": [
        "#train_data_c.drop(['经度','纬度'],axis=1,inplace=True)\n",
        "#train_data_p.drop(['经度','纬度'],axis=1,inplace=True)"
      ],
      "id": "ed12bc61",
      "execution_count": 10,
      "outputs": []
    },
    {
      "cell_type": "code",
      "metadata": {
        "id": "pAe_R4hGKgJ1"
      },
      "source": [
        "from math import radians, cos, sin, asin, sqrt\n",
        "\n",
        "#公式计算两点间距离（m）\n",
        "\n",
        "def geodistance(lng1,lat1,lng2,lat2):\n",
        "  lng1,lat1,lng2,lat2 = map(radians, [float(lng1), float(lat1), float(lng2), float(lat2)])\n",
        "  dlon=lng2-lng1\n",
        "  dlat=lat2-lat1\n",
        "  a=sin(dlat/2)**2 + cos(lat1) * cos(lat2) * sin(dlon/2)**2\n",
        "  distance=2*asin(sqrt(a))*6371*1000 # 地球平均半径，6371km\n",
        "  distance=round(distance/1000,3)\n",
        "  return distance"
      ],
      "id": "pAe_R4hGKgJ1",
      "execution_count": 26,
      "outputs": []
    },
    {
      "cell_type": "code",
      "metadata": {
        "colab": {
          "base_uri": "https://localhost:8080/"
        },
        "id": "c1013116",
        "outputId": "a951505b-cb57-42ae-9458-ae2c04b0854f"
      },
      "source": [
        "%%time\n",
        "c_map = {}\n",
        "p_map = {}\n",
        "c_ids = []\n",
        "p_ids = []\n",
        "cid_len = {}\n",
        "\n",
        "speed_p = {}\n",
        "speed_c = {}\n",
        "def init(data_c,data_p,data_pre):\n",
        "    global c_ids,p_ids,c_map,p_map,cid_len\n",
        "    global speed_p,speed_c\n",
        "    speed_p = {}\n",
        "    speed_c = {}  \n",
        "\n",
        "    c_map = {}\n",
        "    p_map = {}\n",
        "    c_ids = data_pre['c_id'].tolist()\n",
        "    p_ids = data_pre['p_id'].tolist()    \n",
        "    cid_len = {}\n",
        "    dfs = data_c.groupby(['特征码','点位编号'])\n",
        "    for df in dfs:\n",
        "        c_map[df[0]] = df[1].values.tolist()\n",
        "\n",
        "    dfs = data_c.groupby(['特征码'])\n",
        "    for df in dfs:\n",
        "        c_map[df[0]] = df[1].values.tolist()\n",
        "\n",
        "    # speed_c\n",
        "    for df in dfs: \n",
        "      speed = []\n",
        "      pid = df[0] \n",
        "      # print(df[1].columns)\n",
        "      pos = df[1]['点位编号'].tolist()\n",
        "      lng = df[1]['经度'].tolist()\n",
        "      lat = df[1]['纬度'].tolist()\n",
        "      tt = df[1]['time'].tolist()\n",
        "      for i in range(1,len(pos)):\n",
        "        if pos[i] != pos[i-1]:\n",
        "          dis = geodistance(lng[i],lat[i],lng[i-1],lat[i-1])\n",
        "          speed.append(abs(dis/(tt[i]-tt[i-1])))\n",
        "      speed.sort()\n",
        "      if len(speed) != 0:\n",
        "        speed_c[pid] = speed[len(speed)//2]\n",
        "        if len(speed)%2 == 0:\n",
        "          speed_c[pid] = (speed[len(speed)//2] + speed[len(speed)//2-1])/2\n",
        "      else:\n",
        "        speed_c[pid] = -1\n",
        "\n",
        "        \n",
        "\n",
        "    dfs = data_c.groupby(['点位编号'])\n",
        "    for df in dfs:\n",
        "        c_map[df[0]] = df[1].values.tolist()\n",
        "\n",
        "    dfs = data_p.groupby(['人员编号'])\n",
        "    for df in dfs:\n",
        "        p_map[df[0]] = df[1].values.tolist()\n",
        "\n",
        "    # speed_p\n",
        "    for df in dfs: \n",
        "      speed = []\n",
        "      pid = df[0] \n",
        "      pos = df[1]['点位编号'].tolist()\n",
        "      lng = df[1]['经度'].tolist()\n",
        "      lat = df[1]['纬度'].tolist()\n",
        "      tt = df[1]['time'].tolist()\n",
        "      for i in range(1,len(pos)):\n",
        "        if pos[i] != pos[i-1]:\n",
        "          dis = geodistance(lng[i],lat[i],lng[i-1],lat[i-1])\n",
        "          speed.append(abs(dis/(tt[i]-tt[i-1])))\n",
        "      speed.sort()\n",
        "      if len(speed) != 0:\n",
        "        speed_p[pid] = speed[len(speed)//2]\n",
        "        if len(speed)%2 == 0:\n",
        "          speed_c[pid] = (speed[len(speed)//2] + speed[len(speed)//2-1])/2\n",
        "      else:\n",
        "        speed_p[pid] = -1\n",
        "\n",
        "\n",
        "    for c_id in c_ids:\n",
        "        cid_len[c_id] = len(c_map[c_id])\n",
        "    print(len(c_ids),len(p_ids))"
      ],
      "id": "c1013116",
      "execution_count": 43,
      "outputs": [
        {
          "output_type": "stream",
          "name": "stdout",
          "text": [
            "CPU times: user 6 µs, sys: 0 ns, total: 6 µs\n",
            "Wall time: 10 µs\n"
          ]
        }
      ]
    },
    {
      "cell_type": "code",
      "metadata": {
        "id": "30d28de1"
      },
      "source": [
        "cid_value_number = {}\n",
        "def add_values(time,d_id,cid,iters=3000):\n",
        "    global c_ids,p_ids,c_map,p_map,cid_len,cid_value_number\n",
        "    if c_map.get((cid,d_id),-1)==-1:\n",
        "        return\n",
        "    n = len(c_map[(cid,d_id)])\n",
        "    data_d_list = c_map[(cid,d_id)]\n",
        "    lb = 0\n",
        "    ub = n-1\n",
        "    ans=-1\n",
        "    while ub>=lb:\n",
        "        mid = (lb+ub) // 2\n",
        "        if data_d_list[mid][5]<=time:\n",
        "            ans=mid\n",
        "            lb=mid+1\n",
        "        else:\n",
        "            ub=mid-1\n",
        "    if ans!=-1:\n",
        "        value = time - data_d_list[ans][5]\n",
        "        cid_value_number[cid][0]+=value\n",
        "        cid_value_number[cid][1]+=1"
      ],
      "id": "30d28de1",
      "execution_count": 12,
      "outputs": []
    },
    {
      "cell_type": "code",
      "metadata": {
        "id": "58af0678"
      },
      "source": [
        "def lcs(a,b):\n",
        "    lena=len(a)\n",
        "    lenb=len(b)\n",
        "    c=[[0 for i in range(lenb+1)] for j in range(lena+1)]\n",
        "    for i in range(lena):\n",
        "        for j in range(lenb):\n",
        "            if a[i]==b[j]:\n",
        "                c[i+1][j+1]=c[i][j]+1\n",
        "            elif c[i+1][j]>c[i][j+1]:\n",
        "                c[i+1][j+1]=c[i+1][j]\n",
        "            else:\n",
        "                c[i+1][j+1]=c[i][j+1]\n",
        "    return c[lena][lenb]"
      ],
      "id": "58af0678",
      "execution_count": 13,
      "outputs": []
    },
    {
      "cell_type": "code",
      "metadata": {
        "id": "41958a70"
      },
      "source": [
        "def get_unique_d_feature(c_id,p_id):\n",
        "    unique_data_c_list = []\n",
        "    unique_data_p_list = []\n",
        "    data_c_list = c_map[c_id]\n",
        "    data_p_list = p_map[p_id]\n",
        "    for i in range(len(data_c_list)):\n",
        "        if i>0 and data_c_list[i][0] == data_c_list[i-1][0]:\n",
        "            continue\n",
        "        unique_data_c_list.append(data_c_list[i])\n",
        "    for i in range(len(data_p_list)):\n",
        "        if i>0 and data_p_list[i][0] == data_p_list[i-1][0]:\n",
        "            continue\n",
        "        unique_data_p_list.append(data_p_list[i])\n",
        "    unique_pp_number = 0\n",
        "    unique_average_det_time = 0.0\n",
        "    unique_lcs = 0\n",
        "    for i in range(len(unique_data_p_list)):\n",
        "        for j in range(len(unique_data_c_list)-1,-1,-1):\n",
        "            if unique_data_c_list[j][0] == unique_data_p_list[i][0] and unique_data_c_list[j][5] < unique_data_p_list[i][5]:\n",
        "                unique_pp_number += 1\n",
        "                unique_average_det_time += unique_data_c_list[j][5] - unique_data_p_list[i][5]\n",
        "                break\n",
        "    a = []\n",
        "    b = []\n",
        "    for i in range(len(unique_data_p_list)):\n",
        "        a.append(unique_data_p_list[i][0])\n",
        "    for i in range(len(unique_data_c_list)):\n",
        "        b.append(unique_data_c_list[i][0])\n",
        "    unique_lcs = lcs(a,b)\n",
        "    if unique_pp_number == 0:\n",
        "        return (unique_pp_number,1e20,unique_lcs)\n",
        "    return (unique_pp_number,-unique_average_det_time/(unique_pp_number+0.001),unique_lcs)"
      ],
      "id": "41958a70",
      "execution_count": 14,
      "outputs": []
    },
    {
      "cell_type": "code",
      "metadata": {
        "id": "26ea2c78"
      },
      "source": [
        "#get_unique_d_feature(answer['P0011'],'P0011')"
      ],
      "id": "26ea2c78",
      "execution_count": null,
      "outputs": []
    },
    {
      "cell_type": "code",
      "metadata": {
        "id": "c70e8cfe"
      },
      "source": [
        "def work(data_c,data_p,data_pre,name):\n",
        "    global c_ids,p_ids,c_map,p_map,cid_len,answer,cid_value_number\n",
        "    global speed_p,speed_c\n",
        "    init(data_c,data_p,data_pre)\n",
        "    if name=='train':\n",
        "        label = data_pre['label']\n",
        "    pp_number = []\n",
        "    average_det_time = []\n",
        "    cid_number = []\n",
        "    unique_pp_number = []\n",
        "    unique_average_det_time = []\n",
        "    unique_lcs = []\n",
        "    \n",
        "    # 新增\n",
        "    p_number = []\n",
        "    pid_number = []\n",
        "    c_speed = []\n",
        "    p_speed = []\n",
        "    dis_speed = []\n",
        "\n",
        "\n",
        "    for i in range(len(p_ids)):\n",
        "        p_id = p_ids[i]\n",
        "        c_id = c_ids[i]\n",
        "        cid_value_number = {}\n",
        "        cid_value_number.setdefault(c_id,[0,0])\n",
        "        data_p_list = p_map[p_id]\n",
        "        for j in range(len(data_p_list)):\n",
        "            add_values(data_p_list[j][5],data_p_list[j][0],c_id)\n",
        "        \n",
        "        pp_number.append(cid_value_number[c_id][1]/len(data_p_list))\n",
        "        average_det_time.append((cid_value_number[c_id][0]+0.0000)/(cid_value_number[c_id][1]+0.0000))\n",
        "        cid_number.append(cid_len[c_id])\n",
        "        tmp = get_unique_d_feature(c_id,p_id)\n",
        "        unique_pp_number.append(tmp[0])\n",
        "        unique_average_det_time.append(tmp[1])\n",
        "        unique_lcs.append(tmp[2])\n",
        "    \n",
        "        p_number.append(cid_value_number[c_id][1])\n",
        "        pid_number.append(len(data_p_list))\n",
        "        p_speed.append(speed_p[p_id])\n",
        "        c_speed.append(speed_c[c_id])\n",
        "        dis_speed.append(-1 if speed_p[p_id] == -1 or speed_c[c_id] == -1 else abs(speed_p[p_id] - speed_c[c_id]))\n",
        "\n",
        "    print(name,len(c_ids),len(p_ids),len(pp_number),len(average_det_time),len(cid_number))\n",
        "    feature = pd.DataFrame({'c_id':c_ids,\n",
        "                            'p_id':p_ids,\n",
        "                            'pp_number':pp_number,\n",
        "                            'average_det_time':average_det_time,\n",
        "                            'cid_number':cid_number,\n",
        "                            'unique_pp_number':unique_pp_number,\n",
        "                            'unique_average_det_time':unique_average_det_time,\n",
        "                            'unique_lcs':unique_lcs,\n",
        "                            'p_number':p_number,\n",
        "                            'pid_number':pid_number,\n",
        "                            'p_speed':p_speed,\n",
        "                            'c_speed':c_speed,\n",
        "                            'dis_speed':dis_speed,\n",
        "\n",
        "                            })\n",
        "    if name=='train':\n",
        "        feature['label'] = label\n",
        "    feature.to_csv(name+'_feature.csv',index=False)"
      ],
      "id": "c70e8cfe",
      "execution_count": 41,
      "outputs": []
    },
    {
      "cell_type": "code",
      "metadata": {
        "colab": {
          "base_uri": "https://localhost:8080/"
        },
        "id": "6f5d6b34",
        "outputId": "570d0ce1-2f59-4344-8c57-3d429859aeee"
      },
      "source": [
        "\n",
        "work(train_data_c,train_data_p,train_data_pre,'train')\n",
        "work(test_data_c,test_data_p,test_data_pre,'test')"
      ],
      "id": "6f5d6b34",
      "execution_count": 44,
      "outputs": [
        {
          "output_type": "stream",
          "name": "stdout",
          "text": [
            "398338 398338\n",
            "train 398338 398338 398338 398338 398338\n",
            "196382 196382\n",
            "test 196382 196382 196382 196382 196382\n"
          ]
        }
      ]
    },
    {
      "cell_type": "code",
      "metadata": {
        "id": "960de645",
        "colab": {
          "base_uri": "https://localhost:8080/"
        },
        "outputId": "47f853b0-3f1f-42f0-fe3d-df4258138686"
      },
      "source": [
        "%%time\n",
        "init(train_data_c,train_data_p,train_data_pre)"
      ],
      "id": "960de645",
      "execution_count": 39,
      "outputs": [
        {
          "output_type": "stream",
          "name": "stdout",
          "text": [
            "398338 398338\n",
            "CPU times: user 13.5 s, sys: 612 ms, total: 14.1 s\n",
            "Wall time: 13.2 s\n"
          ]
        }
      ]
    }
  ]
}