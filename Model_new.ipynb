{
  "nbformat": 4,
  "nbformat_minor": 5,
  "metadata": {
    "colab": {
      "name": "Model.ipynb",
      "provenance": [],
      "collapsed_sections": []
    },
    "kernelspec": {
      "display_name": "Python 3",
      "language": "python",
      "name": "python3"
    },
    "language_info": {
      "codemirror_mode": {
        "name": "ipython",
        "version": 3
      },
      "file_extension": ".py",
      "mimetype": "text/x-python",
      "name": "python",
      "nbconvert_exporter": "python",
      "pygments_lexer": "ipython3",
      "version": "3.8.8"
    }
  },
  "cells": [
    {
      "cell_type": "code",
      "metadata": {
        "colab": {
          "base_uri": "https://localhost:8080/"
        },
        "id": "9584ce9f",
        "outputId": "829e9ae9-030d-447d-cf98-90ffd731e07e"
      },
      "source": [
        "import pandas as pd\n",
        "import numpy as np\n",
        "import os\n",
        "import time, datetime\n",
        "import math\n",
        "import random\n",
        "from sklearn import preprocessing\n",
        "import torch\n",
        "from sklearn.model_selection import KFold\n",
        "import matplotlib.pyplot as plt\n",
        "import seaborn as sns\n",
        "from mlxtend.classifier import StackingCVClassifier\n",
        "from scipy.stats import norm, skew\n",
        "from scipy import stats\n",
        "from sklearn.ensemble import GradientBoostingRegressor\n",
        "from sklearn.impute import SimpleImputer\n",
        "from scipy.misc import derivative\n",
        "from sklearn.preprocessing import LabelEncoder\n",
        "from sklearn.model_selection import train_test_split, GridSearchCV\n",
        "from sklearn import linear_model, datasets\n",
        "from sklearn.linear_model import Lasso\n",
        "from sklearn.linear_model import LogisticRegression\n",
        "from sklearn.ensemble import RandomForestClassifier\n",
        "import lightgbm\n",
        "from sklearn import svm\n",
        "from sklearn.neural_network import MLPRegressor,MLPClassifier\n",
        "from sklearn.ensemble import AdaBoostClassifier\n",
        "import random\n",
        "from sklearn.metrics import roc_auc_score\n",
        "from scipy import optimize\n",
        "from scipy import special\n",
        "from imblearn.over_sampling import SMOTE\n",
        "from sklearn.decomposition import PCA\n",
        "from xgboost import XGBClassifier\n",
        "from sklearn.tree import DecisionTreeClassifier\n",
        "from sklearn.naive_bayes import MultinomialNB,BernoulliNB\n",
        "from sklearn import preprocessing\n",
        "import warnings\n",
        "warnings.filterwarnings(\"ignore\")"
      ],
      "id": "9584ce9f",
      "execution_count": null,
      "outputs": [
        {
          "output_type": "stream",
          "name": "stderr",
          "text": [
            "/usr/local/lib/python3.7/dist-packages/sklearn/externals/six.py:31: FutureWarning: The module is deprecated in version 0.21 and will be removed in version 0.23 since we've dropped support for Python 2.7. Please rely on the official version of six (https://pypi.org/project/six/).\n",
            "  \"(https://pypi.org/project/six/).\", FutureWarning)\n",
            "/usr/local/lib/python3.7/dist-packages/sklearn/utils/deprecation.py:144: FutureWarning: The sklearn.neighbors.base module is  deprecated in version 0.22 and will be removed in version 0.24. The corresponding classes / functions should instead be imported from sklearn.neighbors. Anything that cannot be imported from sklearn.neighbors is now part of the private API.\n",
            "  warnings.warn(message, FutureWarning)\n"
          ]
        }
      ]
    },
    {
      "cell_type": "code",
      "metadata": {
        "colab": {
          "base_uri": "https://localhost:8080/"
        },
        "id": "BGnETdADSwUC",
        "outputId": "0aaff3f9-8aba-4e69-b0bd-7f6385769827"
      },
      "source": [
        "from google.colab import drive\n",
        "drive.mount('/content/drive')"
      ],
      "id": "BGnETdADSwUC",
      "execution_count": null,
      "outputs": [
        {
          "output_type": "stream",
          "name": "stdout",
          "text": [
            "Mounted at /content/drive\n"
          ]
        }
      ]
    },
    {
      "cell_type": "code",
      "metadata": {
        "id": "d21d63e8"
      },
      "source": [
        "train_data_label = pd.read_csv('CCF2021_run_label_Train.csv')\n",
        "label_p_id = train_data_label['人员编号']\n",
        "label_c_id = train_data_label['特征码']\n",
        "answer = {label_p_id[i]:label_c_id[i] for i in range(len(label_p_id))}"
      ],
      "id": "d21d63e8",
      "execution_count": null,
      "outputs": []
    },
    {
      "cell_type": "code",
      "metadata": {
        "id": "27df3adb"
      },
      "source": [
        "# train_data = pd.read_csv('train_feature.csv')\n",
        "# test_data = pd.read_csv('test_feature.csv')\n",
        "train_data = pd.read_csv('/content/drive/MyDrive/ccf data/train_feature.csv')\n",
        "test_data = pd.read_csv('/content/drive/MyDrive/ccf data/test_feature.csv')"
      ],
      "id": "27df3adb",
      "execution_count": null,
      "outputs": []
    },
    {
      "cell_type": "code",
      "metadata": {
        "colab": {
          "base_uri": "https://localhost:8080/"
        },
        "id": "ea2c3a6b",
        "outputId": "7d0f66c2-aa7b-474f-e227-5e1aa486153c"
      },
      "source": [
        "train_data.shape,test_data.shape"
      ],
      "id": "ea2c3a6b",
      "execution_count": null,
      "outputs": [
        {
          "output_type": "execute_result",
          "data": {
            "text/plain": [
              "((398338, 21), (196382, 20))"
            ]
          },
          "metadata": {},
          "execution_count": 10
        }
      ]
    },
    {
      "cell_type": "code",
      "metadata": {
        "id": "1bebf2b4",
        "outputId": "e2c95573-846e-44e8-f6ab-ccc3439d579b"
      },
      "source": [
        "'''\n",
        "cols = train_data.columns.tolist()\n",
        "cols.remove('c_id')\n",
        "cols.remove('p_id')\n",
        "cols.remove('label')\n",
        "for col in cols:\n",
        "    Min = min(float(train_data[col].min()),float(test_data[col].min()))\n",
        "    Max = max(float(train_data[col].max()),float(test_data[col].max()))\n",
        "    train_data.loc[:,col] = (train_data.loc[:,col]-Min)/(Max-Min)\n",
        "    test_data.loc[:,col] = (test_data.loc[:,col]-Min)/(Max-Min)\n",
        "'''"
      ],
      "id": "1bebf2b4",
      "execution_count": null,
      "outputs": [
        {
          "data": {
            "text/plain": [
              "\"\\ncols = train_data.columns.tolist()\\ncols.remove('c_id')\\ncols.remove('p_id')\\ncols.remove('label')\\nfor col in cols:\\n    Min = min(float(train_data[col].min()),float(test_data[col].min()))\\n    Max = max(float(train_data[col].max()),float(test_data[col].max()))\\n    train_data.loc[:,col] = (train_data.loc[:,col]-Min)/(Max-Min)\\n    test_data.loc[:,col] = (test_data.loc[:,col]-Min)/(Max-Min)\\n\""
            ]
          },
          "execution_count": 6,
          "metadata": {},
          "output_type": "execute_result"
        }
      ]
    },
    {
      "cell_type": "code",
      "metadata": {
        "id": "4de77339",
        "colab": {
          "base_uri": "https://localhost:8080/",
          "height": 310
        },
        "outputId": "93efaf34-76b1-46be-a4f6-9f4064309f97"
      },
      "source": [
        "train_data.head()"
      ],
      "id": "4de77339",
      "execution_count": null,
      "outputs": [
        {
          "output_type": "execute_result",
          "data": {
            "text/html": [
              "<div>\n",
              "<style scoped>\n",
              "    .dataframe tbody tr th:only-of-type {\n",
              "        vertical-align: middle;\n",
              "    }\n",
              "\n",
              "    .dataframe tbody tr th {\n",
              "        vertical-align: top;\n",
              "    }\n",
              "\n",
              "    .dataframe thead th {\n",
              "        text-align: right;\n",
              "    }\n",
              "</style>\n",
              "<table border=\"1\" class=\"dataframe\">\n",
              "  <thead>\n",
              "    <tr style=\"text-align: right;\">\n",
              "      <th></th>\n",
              "      <th>c_id</th>\n",
              "      <th>p_id</th>\n",
              "      <th>pp_number</th>\n",
              "      <th>average_det_time</th>\n",
              "      <th>cid_number</th>\n",
              "      <th>unique_pp_number</th>\n",
              "      <th>unique_average_det_time</th>\n",
              "      <th>unique_lcs</th>\n",
              "      <th>p_number</th>\n",
              "      <th>pid_number</th>\n",
              "      <th>p_speed</th>\n",
              "      <th>c_speed</th>\n",
              "      <th>dis_speed</th>\n",
              "      <th>p_speed_min</th>\n",
              "      <th>c_speed_min</th>\n",
              "      <th>dis_speed_min</th>\n",
              "      <th>Min_time</th>\n",
              "      <th>c_speed_change</th>\n",
              "      <th>p_speed_change</th>\n",
              "      <th>dis_change</th>\n",
              "      <th>label</th>\n",
              "      <th>change_div_p</th>\n",
              "      <th>dis_speed_div_p</th>\n",
              "    </tr>\n",
              "  </thead>\n",
              "  <tbody>\n",
              "    <tr>\n",
              "      <th>0</th>\n",
              "      <td>CY1r8Eov</td>\n",
              "      <td>P0099</td>\n",
              "      <td>0.8</td>\n",
              "      <td>3.437451e+07</td>\n",
              "      <td>558</td>\n",
              "      <td>0</td>\n",
              "      <td>1.000000e+20</td>\n",
              "      <td>2</td>\n",
              "      <td>8</td>\n",
              "      <td>10</td>\n",
              "      <td>8.764114e-10</td>\n",
              "      <td>1.264389e-09</td>\n",
              "      <td>3.879778e-10</td>\n",
              "      <td>0</td>\n",
              "      <td>3.039451e-10</td>\n",
              "      <td>3.039451e-10</td>\n",
              "      <td>1.000000e+30</td>\n",
              "      <td>6</td>\n",
              "      <td>1</td>\n",
              "      <td>-5</td>\n",
              "      <td>0</td>\n",
              "      <td>-0.714286</td>\n",
              "      <td>3.879778e-10</td>\n",
              "    </tr>\n",
              "    <tr>\n",
              "      <th>1</th>\n",
              "      <td>CjD8XlTz</td>\n",
              "      <td>P0099</td>\n",
              "      <td>0.8</td>\n",
              "      <td>3.266357e+07</td>\n",
              "      <td>573</td>\n",
              "      <td>0</td>\n",
              "      <td>1.000000e+20</td>\n",
              "      <td>2</td>\n",
              "      <td>8</td>\n",
              "      <td>10</td>\n",
              "      <td>8.764114e-10</td>\n",
              "      <td>1.103917e-09</td>\n",
              "      <td>2.275057e-10</td>\n",
              "      <td>0</td>\n",
              "      <td>3.428395e-10</td>\n",
              "      <td>3.428395e-10</td>\n",
              "      <td>1.000000e+30</td>\n",
              "      <td>6</td>\n",
              "      <td>1</td>\n",
              "      <td>-5</td>\n",
              "      <td>0</td>\n",
              "      <td>-0.714286</td>\n",
              "      <td>2.275057e-10</td>\n",
              "    </tr>\n",
              "    <tr>\n",
              "      <th>2</th>\n",
              "      <td>C1b6QpCZ</td>\n",
              "      <td>P0099</td>\n",
              "      <td>0.8</td>\n",
              "      <td>2.081857e+08</td>\n",
              "      <td>538</td>\n",
              "      <td>0</td>\n",
              "      <td>1.000000e+20</td>\n",
              "      <td>2</td>\n",
              "      <td>8</td>\n",
              "      <td>10</td>\n",
              "      <td>8.764114e-10</td>\n",
              "      <td>5.378414e-10</td>\n",
              "      <td>3.385700e-10</td>\n",
              "      <td>0</td>\n",
              "      <td>1.795694e-10</td>\n",
              "      <td>1.795694e-10</td>\n",
              "      <td>1.000000e+30</td>\n",
              "      <td>4</td>\n",
              "      <td>1</td>\n",
              "      <td>-3</td>\n",
              "      <td>0</td>\n",
              "      <td>-0.600000</td>\n",
              "      <td>3.385700e-10</td>\n",
              "    </tr>\n",
              "    <tr>\n",
              "      <th>3</th>\n",
              "      <td>C1uhR4YE</td>\n",
              "      <td>P0099</td>\n",
              "      <td>0.8</td>\n",
              "      <td>1.658634e+08</td>\n",
              "      <td>543</td>\n",
              "      <td>0</td>\n",
              "      <td>1.000000e+20</td>\n",
              "      <td>2</td>\n",
              "      <td>8</td>\n",
              "      <td>10</td>\n",
              "      <td>8.764114e-10</td>\n",
              "      <td>1.134907e-09</td>\n",
              "      <td>2.584956e-10</td>\n",
              "      <td>0</td>\n",
              "      <td>1.642113e-10</td>\n",
              "      <td>1.642113e-10</td>\n",
              "      <td>1.000000e+30</td>\n",
              "      <td>3</td>\n",
              "      <td>1</td>\n",
              "      <td>-2</td>\n",
              "      <td>0</td>\n",
              "      <td>-0.500000</td>\n",
              "      <td>2.584956e-10</td>\n",
              "    </tr>\n",
              "    <tr>\n",
              "      <th>4</th>\n",
              "      <td>CwhkYNEx</td>\n",
              "      <td>P0099</td>\n",
              "      <td>0.8</td>\n",
              "      <td>2.051248e+08</td>\n",
              "      <td>545</td>\n",
              "      <td>0</td>\n",
              "      <td>1.000000e+20</td>\n",
              "      <td>2</td>\n",
              "      <td>8</td>\n",
              "      <td>10</td>\n",
              "      <td>8.764114e-10</td>\n",
              "      <td>1.652945e-09</td>\n",
              "      <td>7.765340e-10</td>\n",
              "      <td>0</td>\n",
              "      <td>7.457286e-10</td>\n",
              "      <td>7.457286e-10</td>\n",
              "      <td>1.000000e+30</td>\n",
              "      <td>4</td>\n",
              "      <td>1</td>\n",
              "      <td>-3</td>\n",
              "      <td>0</td>\n",
              "      <td>-0.600000</td>\n",
              "      <td>7.765340e-10</td>\n",
              "    </tr>\n",
              "  </tbody>\n",
              "</table>\n",
              "</div>"
            ],
            "text/plain": [
              "       c_id   p_id  pp_number  ...  label  change_div_p  dis_speed_div_p\n",
              "0  CY1r8Eov  P0099        0.8  ...      0     -0.714286     3.879778e-10\n",
              "1  CjD8XlTz  P0099        0.8  ...      0     -0.714286     2.275057e-10\n",
              "2  C1b6QpCZ  P0099        0.8  ...      0     -0.600000     3.385700e-10\n",
              "3  C1uhR4YE  P0099        0.8  ...      0     -0.500000     2.584956e-10\n",
              "4  CwhkYNEx  P0099        0.8  ...      0     -0.600000     7.765340e-10\n",
              "\n",
              "[5 rows x 23 columns]"
            ]
          },
          "metadata": {},
          "execution_count": 25
        }
      ]
    },
    {
      "cell_type": "code",
      "metadata": {
        "id": "f8d25cf7"
      },
      "source": [
        "test_data"
      ],
      "id": "f8d25cf7",
      "execution_count": null,
      "outputs": []
    },
    {
      "cell_type": "code",
      "metadata": {
        "id": "b45ccda6"
      },
      "source": [
        "def change_div_p(data):\n",
        "  res = []\n",
        "  for i,j in zip(data['c_speed_change'],data['dis_change']):\n",
        "    res.append(j/(i+1))\n",
        "  return res \n",
        "def dis_speed_div_p(data):\n",
        "  res = []\n",
        "  for i,j in zip(data['p_speed'],data['dis_speed']):\n",
        "    res.append(j/(i+1))\n",
        "  return res \n",
        "train_data['change_div_p'] = change_div_p(train_data)\n",
        "test_data['change_div_p'] = change_div_p(test_data)\n",
        "\n",
        "train_data['dis_speed_div_p'] = dis_speed_div_p(train_data)\n",
        "test_data['dis_speed_div_p'] = dis_speed_div_p(test_data)"
      ],
      "id": "b45ccda6",
      "execution_count": null,
      "outputs": []
    },
    {
      "cell_type": "code",
      "metadata": {
        "id": "93417e9c"
      },
      "source": [
        "p_ids = []\n",
        "def init(data):\n",
        "    global p_ids\n",
        "    p_ids = data['p_id'].unique().tolist()"
      ],
      "id": "93417e9c",
      "execution_count": null,
      "outputs": []
    },
    {
      "cell_type": "code",
      "metadata": {
        "id": "40d2ed5e"
      },
      "source": [
        "init(train_data)"
      ],
      "id": "40d2ed5e",
      "execution_count": null,
      "outputs": []
    },
    {
      "cell_type": "code",
      "metadata": {
        "id": "bZ43V3pxZQwv"
      },
      "source": [
        "random.seed(2021)\n",
        "random.shuffle(p_ids)"
      ],
      "id": "bZ43V3pxZQwv",
      "execution_count": null,
      "outputs": []
    },
    {
      "cell_type": "code",
      "metadata": {
        "id": "adfd5bca"
      },
      "source": [
        "cross_size = 5\n",
        "n = len(p_ids)//cross_size + 1\n",
        "p_data = [p_ids[i:i+n] for i in range(0, len(p_ids), n)]\n",
        "def cross_val(model,train_data):\n",
        "    global cross_val,p_ids\n",
        "    acc = 0.0\n",
        "    for cross in range(cross_size):\n",
        "        train_p_ids = []\n",
        "        for i in range(cross_size):\n",
        "          if i != cross:\n",
        "            train_p_ids = train_p_ids + p_data[i] \n",
        "        test_p_ids = p_data[cross]\n",
        "        train_index = []\n",
        "        test_index = []\n",
        "        # for p_id in p_ids:\n",
        "        #     if p_id not in train_p_ids:\n",
        "        #         test_p_ids.add(p_id)\n",
        "        train_index = train_data[train_data['p_id'].isin(train_p_ids)].index.tolist()\n",
        "        test_index = train_data[train_data['p_id'].isin(test_p_ids)].index.tolist()\n",
        "        small_train_data = train_data.iloc[train_index].drop(['c_id','p_id'],axis=1)\n",
        "        small_test_data = train_data.iloc[test_index]\n",
        "        test_c_id = small_test_data['c_id'].tolist()\n",
        "        test_p_id = small_test_data['p_id'].tolist()\n",
        "        small_test_data.drop(['c_id','p_id'],axis=1,inplace=True)\n",
        "        model.fit(small_train_data.drop(['label'],axis=1),small_train_data['label'])\n",
        "        predict_proba_y = model.predict_proba(small_test_data.drop(['label'],axis=1))[:,1:2]\n",
        "        tmp_answer = {}\n",
        "        for i in range(len(test_c_id)):\n",
        "            proba = predict_proba_y[i][0]\n",
        "            c_id = test_c_id[i]\n",
        "            p_id = test_p_id[i]\n",
        "            if proba > tmp_answer.get(p_id,(-1,-1))[1]:\n",
        "                tmp_answer[p_id] = (c_id,proba)\n",
        "        true = 0\n",
        "        for p_id in tmp_answer:\n",
        "            if tmp_answer[p_id][0] == answer[p_id]:\n",
        "                true += 1\n",
        "        print(true/len(test_p_ids))\n",
        "        acc += true/len(test_p_ids)\n",
        "    print('acc: ',acc/cross_size)\n",
        "    # return -acc/cross_size"
      ],
      "id": "adfd5bca",
      "execution_count": null,
      "outputs": []
    },
    {
      "cell_type": "code",
      "metadata": {
        "id": "2ZWjsZyyDD4B"
      },
      "source": [
        "def cross_val_two(modela,modelb,train_data):\n",
        "    global cross_val,p_ids\n",
        "    acc = 0.0\n",
        "    for cross in range(cross_size):\n",
        "        train_p_ids = []\n",
        "        for i in range(cross_size):\n",
        "          if i != cross:\n",
        "            train_p_ids = train_p_ids + p_data[i] \n",
        "        test_p_ids = p_data[cross]\n",
        "        train_index = []\n",
        "        test_index = []\n",
        "        # for p_id in p_ids:\n",
        "        #     if p_id not in train_p_ids:\n",
        "        #         test_p_ids.add(p_id)\n",
        "        train_index = train_data[train_data['p_id'].isin(train_p_ids)].index.tolist()\n",
        "        test_index = train_data[train_data['p_id'].isin(test_p_ids)].index.tolist()\n",
        "        small_train_data = train_data.iloc[train_index].drop(['c_id','p_id'],axis=1)\n",
        "        small_test_data = train_data.iloc[test_index]\n",
        "        test_c_id = small_test_data['c_id'].tolist()\n",
        "        test_p_id = small_test_data['p_id'].tolist()\n",
        "        small_test_data.drop(['c_id','p_id'],axis=1,inplace=True)\n",
        "        modela.fit(small_train_data.drop(['label'],axis=1),small_train_data['label'])\n",
        "        modelb.fit(small_train_data.drop(['label'],axis=1),small_train_data['label'])\n",
        "        \n",
        "        predict_proba_y_a = modela.predict_proba(small_test_data.drop(['label'],axis=1))[:,1:2]\n",
        "        predict_proba_y_b = modelb.predict_proba(small_test_data.drop(['label'],axis=1))[:,1:2]\n",
        "        tmp_answer = {}\n",
        "        for i in range(len(test_c_id)):\n",
        "            proba = predict_proba_y_a[i][0]+predict_proba_y_b[i][0]\n",
        "            c_id = test_c_id[i]\n",
        "            p_id = test_p_id[i]\n",
        "            if proba > tmp_answer.get(p_id,(-1,-1))[1]:\n",
        "                tmp_answer[p_id] = (c_id,proba)\n",
        "        true = 0\n",
        "        for p_id in tmp_answer:\n",
        "            if tmp_answer[p_id][0] == answer[p_id]:\n",
        "                true += 1\n",
        "        print(true/len(test_p_ids))\n",
        "        acc += true/len(test_p_ids)\n",
        "    print('acc: ',acc/cross_size)"
      ],
      "id": "2ZWjsZyyDD4B",
      "execution_count": null,
      "outputs": []
    },
    {
      "cell_type": "code",
      "metadata": {
        "colab": {
          "base_uri": "https://localhost:8080/"
        },
        "id": "uI-OyIKXOn5X",
        "outputId": "6b60144f-17e4-4faf-ab2c-a82535cdaa92"
      },
      "source": [
        "train_data.columns"
      ],
      "id": "uI-OyIKXOn5X",
      "execution_count": null,
      "outputs": [
        {
          "output_type": "execute_result",
          "data": {
            "text/plain": [
              "Index(['c_id', 'p_id', 'pp_number', 'average_det_time', 'cid_number',\n",
              "       'unique_pp_number', 'unique_average_det_time', 'unique_lcs', 'p_number',\n",
              "       'pid_number', 'p_speed', 'c_speed', 'dis_speed', 'p_speed_min',\n",
              "       'c_speed_min', 'dis_speed_min', 'Min_time', 'c_speed_change',\n",
              "       'p_speed_change', 'dis_change', 'label'],\n",
              "      dtype='object')"
            ]
          },
          "metadata": {},
          "execution_count": 57
        }
      ]
    },
    {
      "cell_type": "code",
      "metadata": {
        "id": "AZK2xUieOt6H"
      },
      "source": [
        "feature_col = ['c_id', 'p_id', 'pp_number', 'average_det_time', 'cid_number',\n",
        "       'unique_pp_number', 'unique_average_det_time',  'p_number',\n",
        "       'pid_number', 'p_speed', 'c_speed', 'dis_speed', 'dis_speed_min', 'Min_time', 'dis_change', 'label']"
      ],
      "id": "AZK2xUieOt6H",
      "execution_count": null,
      "outputs": []
    },
    {
      "cell_type": "code",
      "metadata": {
        "colab": {
          "base_uri": "https://localhost:8080/"
        },
        "id": "4ed2cf1a",
        "outputId": "ae6e4d57-badb-4937-ec19-0f8755eb9365"
      },
      "source": [
        "%%time\n",
        "lgb=lightgbm.LGBMClassifier( objective='binary',\n",
        "                        metric='auc',\n",
        "                        learning_rate=0.02,\n",
        "                        n_estimators=500,\n",
        "                        boosting= \"gbdt\",\n",
        "                        max_depth=10,\n",
        "                        num_leaves=400,\n",
        "                        feature_fraction = 0.9,  \n",
        "                        bagging_fraction = 0.95,  \n",
        "                        bagging_freq = 5, \n",
        "                        reg_alpha = 0.02,\n",
        "                        reg_lambda = 0.05,\n",
        "                        min_data_in_leaf = 20,\n",
        "                        )\n",
        "params =  {'bagging_fraction': 0.9325837890849541, 'bagging_freq': 5, 'boosting_type': 'gbdt', 'feature_fraction': 0.7015355243328362, 'learning_rate': 0.06046174903181386, 'max_depth': 8, 'min_data_in_leaf': 15, 'min_gain_to_split': 0.6093427327673105, 'n_estimators': 500, 'num_leaves': 127, 'reg_alpha': 0.1949793976192661, 'reg_lambda': 0.960591321518608}\n",
        "params = {'is_unbalance':True,'learning_rate': 0.017737413271505673, 'boosting_type': 'gbdt', 'objective': 'xentropy', 'num_leaves': 63, 'max_depth': 10, 'n_estimators': 500, 'min_data_in_leaf': 34, 'min_gain_to_split': 0.188661079484727, 'reg_alpha': 0.4248068068953985, 'reg_lambda': 1.039347932519718, 'feature_fraction': 0.9715679990466433, 'bagging_fraction': 0.6816784267307361, 'bagging_freq': 5, 'verbose': -1}\n",
        "# params = {'is_unbalance':True,'learning_rate': 0.017737413271505673, 'boosting_type': 'goss', 'objective': 'xentropy', 'num_leaves': 63, 'max_depth': 10, 'n_estimators': 500, 'min_data_in_leaf': 34, 'min_gain_to_split': 0.188661079484727, 'reg_alpha': 0.4248068068953985, 'reg_lambda': 1.039347932519718}\n",
        "\n",
        "lgb = lightgbm.LGBMClassifier(**params)\n",
        "cross_val(lgb,train_data)"
      ],
      "id": "4ed2cf1a",
      "execution_count": null,
      "outputs": [
        {
          "output_type": "stream",
          "name": "stdout",
          "text": [
            "0.9175\n",
            "0.91\n",
            "0.905\n",
            "0.91\n",
            "0.8967254408060453\n",
            "acc:  0.907845088161209\n",
            "CPU times: user 2min 28s, sys: 632 ms, total: 2min 28s\n",
            "Wall time: 2min 28s\n"
          ]
        }
      ]
    },
    {
      "cell_type": "code",
      "metadata": {
        "id": "iQpgkF290JUm"
      },
      "source": [
        "! pip install catboost"
      ],
      "id": "iQpgkF290JUm",
      "execution_count": null,
      "outputs": []
    },
    {
      "cell_type": "code",
      "metadata": {
        "colab": {
          "base_uri": "https://localhost:8080/"
        },
        "id": "UdLMHR2Cze8B",
        "outputId": "e1fe91bf-ab68-4f3d-ec42-73a24a44b1fa"
      },
      "source": [
        "import catboost as cb\n",
        "catb = cb.CatBoostClassifier(eval_metric=\"AUC\", depth=8, iterations=500, learning_rate=0.02,verbose = 250)\n",
        "cross_val(catb,train_data)"
      ],
      "id": "UdLMHR2Cze8B",
      "execution_count": null,
      "outputs": [
        {
          "output_type": "stream",
          "name": "stdout",
          "text": [
            "0:\ttotal: 94.8ms\tremaining: 47.3s\n",
            "250:\ttotal: 24.4s\tremaining: 24.2s\n",
            "499:\ttotal: 47.7s\tremaining: 0us\n",
            "0.93\n",
            "0:\ttotal: 90.6ms\tremaining: 45.2s\n",
            "250:\ttotal: 24.1s\tremaining: 23.9s\n",
            "499:\ttotal: 47.2s\tremaining: 0us\n",
            "0.9175\n",
            "0:\ttotal: 91.6ms\tremaining: 45.7s\n",
            "250:\ttotal: 24.3s\tremaining: 24.1s\n",
            "499:\ttotal: 47.5s\tremaining: 0us\n",
            "0.9075\n",
            "0:\ttotal: 94.3ms\tremaining: 47.1s\n",
            "250:\ttotal: 24.1s\tremaining: 23.9s\n",
            "499:\ttotal: 47.4s\tremaining: 0us\n",
            "0.9125\n",
            "0:\ttotal: 93.2ms\tremaining: 46.5s\n",
            "250:\ttotal: 24.3s\tremaining: 24.1s\n",
            "499:\ttotal: 47.5s\tremaining: 0us\n",
            "0.9042821158690176\n",
            "acc:  0.9143564231738035\n"
          ]
        }
      ]
    },
    {
      "cell_type": "code",
      "metadata": {
        "colab": {
          "base_uri": "https://localhost:8080/"
        },
        "id": "e17UvRcCDfYL",
        "outputId": "96b7d816-fa5e-4abb-d86b-3b20d8d2109d"
      },
      "source": [
        "cross_val_two(lgb,catb,train_data)"
      ],
      "id": "e17UvRcCDfYL",
      "execution_count": null,
      "outputs": [
        {
          "output_type": "stream",
          "name": "stdout",
          "text": [
            "0:\ttotal: 97.7ms\tremaining: 48.7s\n",
            "250:\ttotal: 24.2s\tremaining: 24s\n",
            "499:\ttotal: 47.6s\tremaining: 0us\n",
            "0.925\n",
            "0:\ttotal: 95.3ms\tremaining: 47.6s\n",
            "250:\ttotal: 24s\tremaining: 23.8s\n",
            "499:\ttotal: 47s\tremaining: 0us\n",
            "0.9075\n",
            "0:\ttotal: 106ms\tremaining: 52.8s\n",
            "250:\ttotal: 24.3s\tremaining: 24.1s\n",
            "499:\ttotal: 47.3s\tremaining: 0us\n",
            "0.9075\n",
            "0:\ttotal: 93.2ms\tremaining: 46.5s\n",
            "250:\ttotal: 23.9s\tremaining: 23.7s\n",
            "499:\ttotal: 47s\tremaining: 0us\n",
            "0.9175\n",
            "0:\ttotal: 92.8ms\tremaining: 46.3s\n",
            "250:\ttotal: 24.3s\tremaining: 24.1s\n",
            "499:\ttotal: 47.4s\tremaining: 0us\n",
            "0.906801007556675\n",
            "acc:  0.9128602015113352\n"
          ]
        }
      ]
    },
    {
      "cell_type": "code",
      "metadata": {
        "colab": {
          "base_uri": "https://localhost:8080/"
        },
        "id": "sA0nCUk51Ezj",
        "outputId": "056a6869-e567-4155-8a8a-4ebad56ef42a"
      },
      "source": [
        "fea_ = catb.feature_importances_\n",
        "fea_name = catb.feature_names_\n",
        "# plt.figure(figsize=(10, 10))\n",
        "# plt.barh(fea_name,fea_,height =0.5)\n",
        "print(pd.DataFrame({\n",
        "        'column': catb.feature_names_,\n",
        "        'importance': catb.feature_importances_,\n",
        "    }).sort_values(by='importance',ascending = False))"
      ],
      "id": "sA0nCUk51Ezj",
      "execution_count": null,
      "outputs": [
        {
          "output_type": "stream",
          "name": "stdout",
          "text": [
            "                     column  importance\n",
            "0                 pp_number   20.101257\n",
            "1          average_det_time   14.376579\n",
            "14                 Min_time   13.228191\n",
            "2                cid_number    9.263773\n",
            "6                  p_number    6.835903\n",
            "4   unique_average_det_time    6.560508\n",
            "18             change_div_p    4.923630\n",
            "15           c_speed_change    3.782508\n",
            "17               dis_change    3.036780\n",
            "3          unique_pp_number    2.617010\n",
            "7                pid_number    2.486301\n",
            "13            dis_speed_min    2.474012\n",
            "12              c_speed_min    2.236097\n",
            "8                   p_speed    2.059522\n",
            "9                   c_speed    1.880235\n",
            "10                dis_speed    1.678099\n",
            "19          dis_speed_div_p    1.465525\n",
            "16           p_speed_change    0.762401\n",
            "5                unique_lcs    0.231669\n",
            "11              p_speed_min    0.000000\n"
          ]
        }
      ]
    },
    {
      "cell_type": "code",
      "metadata": {
        "colab": {
          "base_uri": "https://localhost:8080/"
        },
        "id": "374d9cbf",
        "outputId": "564cf939-f9e5-442e-c1fc-6593815daf71"
      },
      "source": [
        "lr = LogisticRegression(# class_weight={0:1,1:100},\n",
        "                        max_iter=5000,\n",
        "                        random_state=2018)\n",
        "cross_val(lr)"
      ],
      "id": "374d9cbf",
      "execution_count": null,
      "outputs": [
        {
          "output_type": "stream",
          "name": "stdout",
          "text": [
            "0.8275\n",
            "0.795\n",
            "0.825\n",
            "0.8075\n",
            "0.8060453400503779\n",
            "acc:  0.8122090680100756\n"
          ]
        }
      ]
    },
    {
      "cell_type": "code",
      "metadata": {
        "colab": {
          "background_save": true
        },
        "id": "d2f4b36e"
      },
      "source": [
        "dtc = DecisionTreeClassifier(max_depth=5,\n",
        "                            class_weight={0:1,1:1})\n",
        "abc = AdaBoostClassifier(base_estimator = dtc,\n",
        "                        n_estimators=500,\n",
        "                        learning_rate=0.15,\n",
        "                        random_state=2019)\n",
        "cross_val(abc)"
      ],
      "id": "d2f4b36e",
      "execution_count": null,
      "outputs": []
    },
    {
      "cell_type": "code",
      "metadata": {
        "colab": {
          "base_uri": "https://localhost:8080/"
        },
        "id": "202ef6f4",
        "outputId": "351e00db-7587-40cf-9064-2b08dced30aa"
      },
      "source": [
        "# abc.fit(train_data.drop(['c_id','p_id','label'],axis=1),train_data['label'])\n",
        "model = catb \n",
        "model.fit(train_data.drop(['c_id','p_id','label'],axis=1),train_data['label'])"
      ],
      "id": "202ef6f4",
      "execution_count": null,
      "outputs": [
        {
          "output_type": "stream",
          "name": "stdout",
          "text": [
            "0:\ttotal: 119ms\tremaining: 59.4s\n",
            "250:\ttotal: 29.6s\tremaining: 29.3s\n",
            "499:\ttotal: 57.6s\tremaining: 0us\n"
          ]
        },
        {
          "output_type": "execute_result",
          "data": {
            "text/plain": [
              "<catboost.core.CatBoostClassifier at 0x7f5eedc7a510>"
            ]
          },
          "metadata": {},
          "execution_count": 33
        }
      ]
    },
    {
      "cell_type": "code",
      "metadata": {
        "colab": {
          "base_uri": "https://localhost:8080/"
        },
        "id": "f7cc7cc9",
        "outputId": "defd73de-4a55-46dd-911f-0f459240cbab"
      },
      "source": [
        "###false\n",
        "\n",
        "test_c_id = train_data['c_id']\n",
        "test_p_id = train_data['p_id']\n",
        "predict_proba_y = model.predict_proba(train_data.drop(['c_id','p_id','label'],axis=1))[:,1:2]\n",
        "tmp_answer = {}\n",
        "train_acc = 0\n",
        "false_c_id = []\n",
        "false_p_id = []\n",
        "for i in range(len(test_c_id)):\n",
        "    proba = predict_proba_y[i][0]\n",
        "    c_id = test_c_id[i]\n",
        "    p_id = test_p_id[i]\n",
        "    if proba > tmp_answer.get(p_id,(-1,-1))[1]:\n",
        "        tmp_answer[p_id] = (c_id,proba)\n",
        "test_p_id = list(set(test_p_id))\n",
        "for p_id in test_p_id:\n",
        "    if tmp_answer[p_id][0] == answer[p_id]:\n",
        "        train_acc += 1\n",
        "    else:\n",
        "        false_p_id.append(p_id)\n",
        "        false_c_id.append(tmp_answer[p_id][0])\n",
        "print(train_acc,train_acc/len(test_p_id))\n",
        "false = pd.DataFrame({'false_pids':false_p_id,\n",
        "                      'false_cids':false_c_id})\n",
        "# false.to_csv('false.csv',index=False)"
      ],
      "id": "f7cc7cc9",
      "execution_count": null,
      "outputs": [
        {
          "output_type": "stream",
          "name": "stdout",
          "text": [
            "1905 0.9539308963445168\n"
          ]
        }
      ]
    },
    {
      "cell_type": "code",
      "metadata": {
        "colab": {
          "base_uri": "https://localhost:8080/",
          "height": 204
        },
        "id": "C3exIfOBRk8K",
        "outputId": "e302b720-b5ab-4107-892b-9f3f3b00b6cf"
      },
      "source": [
        "false.sort_values(by='false_pids').head()"
      ],
      "id": "C3exIfOBRk8K",
      "execution_count": null,
      "outputs": [
        {
          "output_type": "execute_result",
          "data": {
            "text/html": [
              "<div>\n",
              "<style scoped>\n",
              "    .dataframe tbody tr th:only-of-type {\n",
              "        vertical-align: middle;\n",
              "    }\n",
              "\n",
              "    .dataframe tbody tr th {\n",
              "        vertical-align: top;\n",
              "    }\n",
              "\n",
              "    .dataframe thead th {\n",
              "        text-align: right;\n",
              "    }\n",
              "</style>\n",
              "<table border=\"1\" class=\"dataframe\">\n",
              "  <thead>\n",
              "    <tr style=\"text-align: right;\">\n",
              "      <th></th>\n",
              "      <th>false_pids</th>\n",
              "      <th>false_cids</th>\n",
              "    </tr>\n",
              "  </thead>\n",
              "  <tbody>\n",
              "    <tr>\n",
              "      <th>21</th>\n",
              "      <td>P0006</td>\n",
              "      <td>CzRTjNQP</td>\n",
              "    </tr>\n",
              "    <tr>\n",
              "      <th>19</th>\n",
              "      <td>P0007</td>\n",
              "      <td>CLjkwVKy</td>\n",
              "    </tr>\n",
              "    <tr>\n",
              "      <th>38</th>\n",
              "      <td>P0017</td>\n",
              "      <td>CsIzxuki</td>\n",
              "    </tr>\n",
              "    <tr>\n",
              "      <th>66</th>\n",
              "      <td>P0027</td>\n",
              "      <td>CVUKwvDa</td>\n",
              "    </tr>\n",
              "    <tr>\n",
              "      <th>67</th>\n",
              "      <td>P0029</td>\n",
              "      <td>C7b0Jsoz</td>\n",
              "    </tr>\n",
              "  </tbody>\n",
              "</table>\n",
              "</div>"
            ],
            "text/plain": [
              "   false_pids false_cids\n",
              "21      P0006   CzRTjNQP\n",
              "19      P0007   CLjkwVKy\n",
              "38      P0017   CsIzxuki\n",
              "66      P0027   CVUKwvDa\n",
              "67      P0029   C7b0Jsoz"
            ]
          },
          "metadata": {},
          "execution_count": 69
        }
      ]
    },
    {
      "cell_type": "code",
      "metadata": {
        "id": "0dff64fa"
      },
      "source": [
        "\n",
        "test_c_id = test_data['c_id']\n",
        "test_p_id = test_data['p_id']\n",
        "predict_proba_y = model.predict_proba(test_data.drop(['c_id','p_id'],axis=1))[:,1:2]\n",
        "tmp_answer = {}\n",
        "for i in range(len(test_c_id)):\n",
        "    proba = predict_proba_y[i][0]\n",
        "    c_id = test_c_id[i]\n",
        "    p_id = test_p_id[i]\n",
        "    if proba > tmp_answer.get(p_id,(-1,-1))[1]:\n",
        "        tmp_answer[p_id] = (c_id,proba)\n",
        "test_p_id = list(set(test_p_id))\n",
        "test_c_id = []\n",
        "for p_id in test_p_id:\n",
        "    test_c_id.append(tmp_answer.get(p_id,'-1')[0])\n",
        "submit = pd.DataFrame({'人员编号':test_p_id,\n",
        "                       '特征码':test_c_id})\n",
        "submit.to_csv('output.csv',index=False)"
      ],
      "id": "0dff64fa",
      "execution_count": null,
      "outputs": []
    },
    {
      "cell_type": "code",
      "metadata": {
        "colab": {
          "base_uri": "https://localhost:8080/",
          "height": 224
        },
        "id": "6f516a9a",
        "outputId": "f140be1f-8d91-4605-9aa0-acaeacfb4fb7"
      },
      "source": [
        "print(pd.DataFrame({\n",
        "        'column': test_data.columns[2:], \n",
        "        'importance': model.booster_.feature_importance(),\n",
        "    }).sort_values(by='importance',ascending = False))"
      ],
      "id": "6f516a9a",
      "execution_count": null,
      "outputs": [
        {
          "output_type": "error",
          "ename": "AttributeError",
          "evalue": "ignored",
          "traceback": [
            "\u001b[0;31m---------------------------------------------------------------------------\u001b[0m",
            "\u001b[0;31mAttributeError\u001b[0m                            Traceback (most recent call last)",
            "\u001b[0;32m<ipython-input-56-bc526cb73a05>\u001b[0m in \u001b[0;36m<module>\u001b[0;34m()\u001b[0m\n\u001b[1;32m      1\u001b[0m print(pd.DataFrame({\n\u001b[1;32m      2\u001b[0m         \u001b[0;34m'column'\u001b[0m\u001b[0;34m:\u001b[0m \u001b[0mtest_data\u001b[0m\u001b[0;34m.\u001b[0m\u001b[0mcolumns\u001b[0m\u001b[0;34m[\u001b[0m\u001b[0;36m2\u001b[0m\u001b[0;34m:\u001b[0m\u001b[0;34m]\u001b[0m\u001b[0;34m,\u001b[0m\u001b[0;34m\u001b[0m\u001b[0;34m\u001b[0m\u001b[0m\n\u001b[0;32m----> 3\u001b[0;31m         \u001b[0;34m'importance'\u001b[0m\u001b[0;34m:\u001b[0m \u001b[0mmodel\u001b[0m\u001b[0;34m.\u001b[0m\u001b[0mbooster_\u001b[0m\u001b[0;34m.\u001b[0m\u001b[0mfeature_importance\u001b[0m\u001b[0;34m(\u001b[0m\u001b[0;34m)\u001b[0m\u001b[0;34m,\u001b[0m\u001b[0;34m\u001b[0m\u001b[0;34m\u001b[0m\u001b[0m\n\u001b[0m\u001b[1;32m      4\u001b[0m     }).sort_values(by='importance',ascending = False))\n",
            "\u001b[0;31mAttributeError\u001b[0m: 'CatBoostClassifier' object has no attribute 'booster_'"
          ]
        }
      ]
    },
    {
      "cell_type": "code",
      "metadata": {
        "colab": {
          "base_uri": "https://localhost:8080/"
        },
        "id": "TNqcnIviqhjs",
        "outputId": "ade18962-5a4c-476f-87d3-71ff96d93658"
      },
      "source": [
        "modela = lgb\n",
        "modelb = catb \n",
        "\n",
        "def get_submit(modela,modelb):\n",
        "  modela.fit(train_data.drop(['c_id','p_id','label'],axis=1),train_data['label'])\n",
        "  modelb.fit(train_data.drop(['c_id','p_id','label'],axis=1),train_data['label'])\n",
        "  test_c_id = test_data['c_id']\n",
        "  test_p_id = test_data['p_id']\n",
        "  predict_proba_y_a = modela.predict_proba(test_data.drop(['c_id','p_id'],axis=1))[:,1:2]\n",
        "  predict_proba_y_b = modelb.predict_proba(test_data.drop(['c_id','p_id'],axis=1))[:,1:2]\n",
        "  tmp_answer = {}\n",
        "  for i in range(len(test_c_id)):\n",
        "      proba = predict_proba_y_a[i][0] +  predict_proba_y_b[i][0]\n",
        "      c_id = test_c_id[i]\n",
        "      p_id = test_p_id[i]\n",
        "      if proba > tmp_answer.get(p_id,(-1,-1))[1]:\n",
        "          tmp_answer[p_id] = (c_id,proba)\n",
        "  test_p_id = list(set(test_p_id))\n",
        "  test_c_id = []\n",
        "  for p_id in test_p_id:\n",
        "      test_c_id.append(tmp_answer.get(p_id,'-1')[0])\n",
        "  submit = pd.DataFrame({'人员编号':test_p_id,\n",
        "                        '特征码':test_c_id})\n",
        "  submit.to_csv('output.csv',index=False)\n",
        "get_submit(modela,modelb)"
      ],
      "id": "TNqcnIviqhjs",
      "execution_count": null,
      "outputs": [
        {
          "output_type": "stream",
          "name": "stdout",
          "text": [
            "0:\ttotal: 163ms\tremaining: 1m 21s\n",
            "200:\ttotal: 22.2s\tremaining: 33s\n",
            "400:\ttotal: 43.2s\tremaining: 10.7s\n",
            "499:\ttotal: 53.3s\tremaining: 0us\n"
          ]
        }
      ]
    },
    {
      "cell_type": "code",
      "metadata": {
        "colab": {
          "base_uri": "https://localhost:8080/"
        },
        "id": "68195074",
        "outputId": "32f9afbf-9800-47e2-9c1e-8324ce001df0"
      },
      "source": [
        "test_data.columns"
      ],
      "id": "68195074",
      "execution_count": null,
      "outputs": [
        {
          "data": {
            "text/plain": [
              "Index(['c_id', 'p_id', 'pp_number', 'average_det_time', 'cid_number',\n",
              "       'unique_pp_number', 'unique_average_det_time', 'unique_lcs'],\n",
              "      dtype='object')"
            ]
          },
          "execution_count": 23,
          "metadata": {},
          "output_type": "execute_result"
        }
      ]
    },
    {
      "cell_type": "code",
      "metadata": {
        "id": "e3074003"
      },
      "source": [
        "import pandas as pd\n",
        "df_best = pd.read_csv('/content/submit_merge.csv')\n",
        "df_se = pd.read_csv('submit.csv')\n",
        "submit = pd.read_csv('/content/output.csv')"
      ],
      "id": "e3074003",
      "execution_count": null,
      "outputs": []
    },
    {
      "cell_type": "code",
      "metadata": {
        "colab": {
          "base_uri": "https://localhost:8080/"
        },
        "id": "4DREBBU64ZSt",
        "outputId": "3025d651-9004-4a18-dcc7-dad3f0f8a07c"
      },
      "source": [
        "df_best.sort_values('人员编号',inplace=True)\n",
        "df_se.sort_values('人员编号',inplace=True)\n",
        "num = 0\n",
        "for i,j in zip(df_best['特征码'],df_se['特征码']):\n",
        "    if i!=j:\n",
        "        num += 1\n",
        "print(num)"
      ],
      "id": "4DREBBU64ZSt",
      "execution_count": null,
      "outputs": [
        {
          "output_type": "stream",
          "name": "stdout",
          "text": [
            "16\n"
          ]
        }
      ]
    },
    {
      "cell_type": "code",
      "metadata": {
        "colab": {
          "base_uri": "https://localhost:8080/",
          "height": 419
        },
        "id": "RALuZgNO4cFH",
        "outputId": "f9c49316-8d31-40aa-9949-b085bf8250c9"
      },
      "source": [
        "submit "
      ],
      "id": "RALuZgNO4cFH",
      "execution_count": null,
      "outputs": [
        {
          "output_type": "execute_result",
          "data": {
            "text/html": [
              "<div>\n",
              "<style scoped>\n",
              "    .dataframe tbody tr th:only-of-type {\n",
              "        vertical-align: middle;\n",
              "    }\n",
              "\n",
              "    .dataframe tbody tr th {\n",
              "        vertical-align: top;\n",
              "    }\n",
              "\n",
              "    .dataframe thead th {\n",
              "        text-align: right;\n",
              "    }\n",
              "</style>\n",
              "<table border=\"1\" class=\"dataframe\">\n",
              "  <thead>\n",
              "    <tr style=\"text-align: right;\">\n",
              "      <th></th>\n",
              "      <th>人员编号</th>\n",
              "      <th>特征码</th>\n",
              "    </tr>\n",
              "  </thead>\n",
              "  <tbody>\n",
              "    <tr>\n",
              "      <th>592</th>\n",
              "      <td>P0000</td>\n",
              "      <td>CMw8aF7H</td>\n",
              "    </tr>\n",
              "    <tr>\n",
              "      <th>919</th>\n",
              "      <td>P0001</td>\n",
              "      <td>C05BKLk4</td>\n",
              "    </tr>\n",
              "    <tr>\n",
              "      <th>844</th>\n",
              "      <td>P0002</td>\n",
              "      <td>ChBvxKiO</td>\n",
              "    </tr>\n",
              "    <tr>\n",
              "      <th>348</th>\n",
              "      <td>P0003</td>\n",
              "      <td>Cp3g58MG</td>\n",
              "    </tr>\n",
              "    <tr>\n",
              "      <th>397</th>\n",
              "      <td>P0004</td>\n",
              "      <td>CXG69dSe</td>\n",
              "    </tr>\n",
              "    <tr>\n",
              "      <th>...</th>\n",
              "      <td>...</td>\n",
              "      <td>...</td>\n",
              "    </tr>\n",
              "    <tr>\n",
              "      <th>49</th>\n",
              "      <td>P0995</td>\n",
              "      <td>C7SA6ep4</td>\n",
              "    </tr>\n",
              "    <tr>\n",
              "      <th>174</th>\n",
              "      <td>P0996</td>\n",
              "      <td>CutQIJ16</td>\n",
              "    </tr>\n",
              "    <tr>\n",
              "      <th>278</th>\n",
              "      <td>P0997</td>\n",
              "      <td>CvBP7Mxg</td>\n",
              "    </tr>\n",
              "    <tr>\n",
              "      <th>76</th>\n",
              "      <td>P0998</td>\n",
              "      <td>CyUG104t</td>\n",
              "    </tr>\n",
              "    <tr>\n",
              "      <th>984</th>\n",
              "      <td>P0999</td>\n",
              "      <td>CPzY21vL</td>\n",
              "    </tr>\n",
              "  </tbody>\n",
              "</table>\n",
              "<p>996 rows × 2 columns</p>\n",
              "</div>"
            ],
            "text/plain": [
              "      人员编号       特征码\n",
              "592  P0000  CMw8aF7H\n",
              "919  P0001  C05BKLk4\n",
              "844  P0002  ChBvxKiO\n",
              "348  P0003  Cp3g58MG\n",
              "397  P0004  CXG69dSe\n",
              "..     ...       ...\n",
              "49   P0995  C7SA6ep4\n",
              "174  P0996  CutQIJ16\n",
              "278  P0997  CvBP7Mxg\n",
              "76   P0998  CyUG104t\n",
              "984  P0999  CPzY21vL\n",
              "\n",
              "[996 rows x 2 columns]"
            ]
          },
          "metadata": {},
          "execution_count": 28
        }
      ]
    },
    {
      "cell_type": "code",
      "metadata": {
        "id": "GfUhsR326kbv"
      },
      "source": [
        "# submit = pd.read_csv('/content/output_add_speed.csv')\n",
        "df_se = pd.read_csv('output.csv')"
      ],
      "id": "GfUhsR326kbv",
      "execution_count": null,
      "outputs": []
    },
    {
      "cell_type": "code",
      "metadata": {
        "colab": {
          "base_uri": "https://localhost:8080/"
        },
        "id": "89OnhkHj3qPZ",
        "outputId": "092f60e3-973a-456c-8ddf-16ddb769193b"
      },
      "source": [
        "num = 0\n",
        "ansa = {}\n",
        "ansb = {}\n",
        "ansc = {}\n",
        "for pi,pj,i,j in zip(df_best['人员编号'],submit['人员编号'],df_best['特征码'],submit['特征码']):\n",
        "  ansa[pi] = i \n",
        "  ansb[pj] = j\n",
        "for p,c in zip(df_se['人员编号'],df_se['特征码']):\n",
        "  ansc[p] = c\n",
        "\n",
        "p_ans = []\n",
        "c_ans = []\n",
        "all_diff = 0\n",
        "for p in df_best['人员编号']:\n",
        "  res = [ansa[p],ansb[p],ansc[p]]\n",
        "  p_ans.append(p)\n",
        "  rs = ansa[p]\n",
        "  if ansa[p] != ansb[p] and ansa[p]!=ansc[p] and ansb[p]!=ansc[p]:\n",
        "    rs = ansa[p] \n",
        "    all_diff += 1\n",
        "  else:\n",
        "    rs = max(res,key = res.count)\n",
        "  c_ans.append(rs)\n",
        "  if rs != ansa[p]:\n",
        "    num +=1\n",
        "    print(p,ansa[p],rs)\n",
        "print(num,all_diff)"
      ],
      "id": "89OnhkHj3qPZ",
      "execution_count": null,
      "outputs": [
        {
          "output_type": "stream",
          "name": "stdout",
          "text": [
            "0 0\n"
          ]
        }
      ]
    },
    {
      "cell_type": "code",
      "metadata": {
        "id": "oXeRSjnF9i-E"
      },
      "source": [
        "sbmit = pd.DataFrame({'人员编号':p_ans,\n",
        "                       '特征码':c_ans})\n",
        "sbmit.to_csv('submit_13.csv',index=False)"
      ],
      "id": "oXeRSjnF9i-E",
      "execution_count": null,
      "outputs": []
    },
    {
      "cell_type": "code",
      "metadata": {
        "colab": {
          "base_uri": "https://localhost:8080/",
          "height": 35
        },
        "id": "GHy3zfK-NVAZ",
        "outputId": "f2d81398-fbf2-48b0-e9f8-39f40e5a767d"
      },
      "source": [
        "lightgbm.__version__ \n"
      ],
      "id": "GHy3zfK-NVAZ",
      "execution_count": null,
      "outputs": [
        {
          "output_type": "execute_result",
          "data": {
            "application/vnd.google.colaboratory.intrinsic+json": {
              "type": "string"
            },
            "text/plain": [
              "'2.2.3'"
            ]
          },
          "metadata": {},
          "execution_count": 21
        }
      ]
    }
  ]
}