{
  "nbformat": 4,
  "nbformat_minor": 5,
  "metadata": {
    "colab": {
      "name": "Model.ipynb",
      "provenance": [],
      "collapsed_sections": []
    },
    "kernelspec": {
      "display_name": "Python 3",
      "language": "python",
      "name": "python3"
    },
    "language_info": {
      "codemirror_mode": {
        "name": "ipython",
        "version": 3
      },
      "file_extension": ".py",
      "mimetype": "text/x-python",
      "name": "python",
      "nbconvert_exporter": "python",
      "pygments_lexer": "ipython3",
      "version": "3.8.8"
    }
  },
  "cells": [
    {
      "cell_type": "code",
      "metadata": {
        "colab": {
          "base_uri": "https://localhost:8080/"
        },
        "id": "9584ce9f",
        "outputId": "f92d6b61-dd18-4039-a685-467a768b7e8a"
      },
      "source": [
        "import pandas as pd\n",
        "import numpy as np\n",
        "import os\n",
        "import time, datetime\n",
        "import math\n",
        "import random\n",
        "from sklearn import preprocessing\n",
        "import torch\n",
        "from sklearn.model_selection import KFold\n",
        "import matplotlib.pyplot as plt\n",
        "import seaborn as sns\n",
        "from mlxtend.classifier import StackingCVClassifier\n",
        "from scipy.stats import norm, skew\n",
        "from scipy import stats\n",
        "from sklearn.ensemble import GradientBoostingRegressor\n",
        "from sklearn.impute import SimpleImputer\n",
        "from scipy.misc import derivative\n",
        "from sklearn.preprocessing import LabelEncoder\n",
        "from sklearn.model_selection import train_test_split, GridSearchCV\n",
        "from sklearn import linear_model, datasets\n",
        "from sklearn.linear_model import Lasso\n",
        "from sklearn.linear_model import LogisticRegression\n",
        "from sklearn.ensemble import RandomForestClassifier\n",
        "import lightgbm\n",
        "from sklearn import svm\n",
        "from sklearn.neural_network import MLPRegressor,MLPClassifier\n",
        "from sklearn.ensemble import AdaBoostClassifier\n",
        "import random\n",
        "from sklearn.metrics import roc_auc_score\n",
        "from scipy import optimize\n",
        "from scipy import special\n",
        "from imblearn.over_sampling import SMOTE\n",
        "from sklearn.decomposition import PCA\n",
        "from xgboost import XGBClassifier\n",
        "from sklearn.tree import DecisionTreeClassifier\n",
        "from sklearn.naive_bayes import MultinomialNB,BernoulliNB\n",
        "from sklearn import preprocessing\n",
        "import warnings\n",
        "warnings.filterwarnings(\"ignore\")"
      ],
      "id": "9584ce9f",
      "execution_count": 5,
      "outputs": [
        {
          "output_type": "stream",
          "name": "stderr",
          "text": [
            "/usr/local/lib/python3.7/dist-packages/sklearn/externals/six.py:31: FutureWarning: The module is deprecated in version 0.21 and will be removed in version 0.23 since we've dropped support for Python 2.7. Please rely on the official version of six (https://pypi.org/project/six/).\n",
            "  \"(https://pypi.org/project/six/).\", FutureWarning)\n",
            "/usr/local/lib/python3.7/dist-packages/sklearn/utils/deprecation.py:144: FutureWarning: The sklearn.neighbors.base module is  deprecated in version 0.22 and will be removed in version 0.24. The corresponding classes / functions should instead be imported from sklearn.neighbors. Anything that cannot be imported from sklearn.neighbors is now part of the private API.\n",
            "  warnings.warn(message, FutureWarning)\n"
          ]
        }
      ]
    },
    {
      "cell_type": "code",
      "metadata": {
        "colab": {
          "base_uri": "https://localhost:8080/"
        },
        "id": "BGnETdADSwUC",
        "outputId": "2fa9d4d5-2e22-4481-a34a-669eb02e5df9"
      },
      "source": [
        "from google.colab import drive\n",
        "drive.mount('/content/drive')"
      ],
      "id": "BGnETdADSwUC",
      "execution_count": 2,
      "outputs": [
        {
          "output_type": "stream",
          "name": "stdout",
          "text": [
            "Mounted at /content/drive\n"
          ]
        }
      ]
    },
    {
      "cell_type": "code",
      "metadata": {
        "id": "dc646790"
      },
      "source": [
        "#2020-11-02 18:51:24.674845\n",
        "#67884674845\n",
        "def get_time_stamp(time):\n",
        "    hh = int(time[11:11+2])\n",
        "    mm = int(time[14:14+2])\n",
        "    ii = int(time[17:17+2])\n",
        "    res = hh*3600+mm*60+ii\n",
        "    for i in range(20,len(time)):\n",
        "        res=res*10+ord(time[i])-ord('0')\n",
        "    return res"
      ],
      "id": "dc646790",
      "execution_count": 3,
      "outputs": []
    },
    {
      "cell_type": "code",
      "metadata": {
        "id": "d21d63e8"
      },
      "source": [
        "train_data_label = pd.read_csv('CCF2021_run_label_Train.csv')\n",
        "label_p_id = train_data_label['人员编号']\n",
        "label_c_id = train_data_label['特征码']\n",
        "answer = {label_p_id[i]:label_c_id[i] for i in range(len(label_p_id))}"
      ],
      "id": "d21d63e8",
      "execution_count": 6,
      "outputs": []
    },
    {
      "cell_type": "code",
      "metadata": {
        "id": "27df3adb"
      },
      "source": [
        "# train_data = pd.read_csv('train_feature.csv')\n",
        "# test_data = pd.read_csv('test_feature.csv')\n",
        "train_data = pd.read_csv('/content/drive/MyDrive/ccf data/train_feature_new.csv')\n",
        "test_data = pd.read_csv('/content/drive/MyDrive/ccf data/test_feature_new.csv')"
      ],
      "id": "27df3adb",
      "execution_count": 23,
      "outputs": []
    },
    {
      "cell_type": "code",
      "metadata": {
        "colab": {
          "base_uri": "https://localhost:8080/"
        },
        "id": "ea2c3a6b",
        "outputId": "5d95aa30-958a-4beb-de6e-b1a7d2a71c7d"
      },
      "source": [
        "train_data.shape,test_data.shape"
      ],
      "id": "ea2c3a6b",
      "execution_count": 24,
      "outputs": [
        {
          "output_type": "execute_result",
          "data": {
            "text/plain": [
              "((398338, 20), (196382, 19))"
            ]
          },
          "metadata": {},
          "execution_count": 24
        }
      ]
    },
    {
      "cell_type": "code",
      "metadata": {
        "id": "1bebf2b4",
        "outputId": "e2c95573-846e-44e8-f6ab-ccc3439d579b"
      },
      "source": [
        "'''\n",
        "cols = train_data.columns.tolist()\n",
        "cols.remove('c_id')\n",
        "cols.remove('p_id')\n",
        "cols.remove('label')\n",
        "for col in cols:\n",
        "    Min = min(float(train_data[col].min()),float(test_data[col].min()))\n",
        "    Max = max(float(train_data[col].max()),float(test_data[col].max()))\n",
        "    train_data.loc[:,col] = (train_data.loc[:,col]-Min)/(Max-Min)\n",
        "    test_data.loc[:,col] = (test_data.loc[:,col]-Min)/(Max-Min)\n",
        "'''"
      ],
      "id": "1bebf2b4",
      "execution_count": null,
      "outputs": [
        {
          "data": {
            "text/plain": [
              "\"\\ncols = train_data.columns.tolist()\\ncols.remove('c_id')\\ncols.remove('p_id')\\ncols.remove('label')\\nfor col in cols:\\n    Min = min(float(train_data[col].min()),float(test_data[col].min()))\\n    Max = max(float(train_data[col].max()),float(test_data[col].max()))\\n    train_data.loc[:,col] = (train_data.loc[:,col]-Min)/(Max-Min)\\n    test_data.loc[:,col] = (test_data.loc[:,col]-Min)/(Max-Min)\\n\""
            ]
          },
          "execution_count": 6,
          "metadata": {},
          "output_type": "execute_result"
        }
      ]
    },
    {
      "cell_type": "code",
      "metadata": {
        "id": "4de77339"
      },
      "source": [
        "train_data"
      ],
      "id": "4de77339",
      "execution_count": null,
      "outputs": []
    },
    {
      "cell_type": "code",
      "metadata": {
        "id": "f8d25cf7"
      },
      "source": [
        "test_data"
      ],
      "id": "f8d25cf7",
      "execution_count": null,
      "outputs": []
    },
    {
      "cell_type": "code",
      "metadata": {
        "id": "b45ccda6"
      },
      "source": [
        ""
      ],
      "id": "b45ccda6",
      "execution_count": null,
      "outputs": []
    },
    {
      "cell_type": "code",
      "metadata": {
        "id": "93417e9c"
      },
      "source": [
        "p_ids = []\n",
        "def init(data):\n",
        "    global p_ids\n",
        "    p_ids = data['p_id'].unique().tolist()"
      ],
      "id": "93417e9c",
      "execution_count": 25,
      "outputs": []
    },
    {
      "cell_type": "code",
      "metadata": {
        "id": "40d2ed5e"
      },
      "source": [
        "init(train_data)"
      ],
      "id": "40d2ed5e",
      "execution_count": 26,
      "outputs": []
    },
    {
      "cell_type": "code",
      "metadata": {
        "id": "bZ43V3pxZQwv"
      },
      "source": [
        "random.seed(2021)\n",
        "random.shuffle(p_ids)"
      ],
      "id": "bZ43V3pxZQwv",
      "execution_count": 27,
      "outputs": []
    },
    {
      "cell_type": "code",
      "metadata": {
        "id": "adfd5bca"
      },
      "source": [
        "cross_size = 5\n",
        "n = len(p_ids)//cross_size + 1\n",
        "p_data = [p_ids[i:i+n] for i in range(0, len(p_ids), n)]\n",
        "def cross_val(model):\n",
        "    global cross_val,p_ids\n",
        "    acc = 0.0\n",
        "    for cross in range(cross_size):\n",
        "        train_p_ids = []\n",
        "        for i in range(cross_size):\n",
        "          if i != cross:\n",
        "            train_p_ids = train_p_ids + p_data[i] \n",
        "        test_p_ids = p_data[cross]\n",
        "        train_index = []\n",
        "        test_index = []\n",
        "        # for p_id in p_ids:\n",
        "        #     if p_id not in train_p_ids:\n",
        "        #         test_p_ids.add(p_id)\n",
        "        train_index = train_data[train_data['p_id'].isin(train_p_ids)].index.tolist()\n",
        "        test_index = train_data[train_data['p_id'].isin(test_p_ids)].index.tolist()\n",
        "        small_train_data = train_data.iloc[train_index].drop(['c_id','p_id'],axis=1)\n",
        "        small_test_data = train_data.iloc[test_index]\n",
        "        test_c_id = small_test_data['c_id'].tolist()\n",
        "        test_p_id = small_test_data['p_id'].tolist()\n",
        "        small_test_data.drop(['c_id','p_id'],axis=1,inplace=True)\n",
        "        model.fit(small_train_data.drop(['label'],axis=1),small_train_data['label'])\n",
        "        predict_proba_y = model.predict_proba(small_test_data.drop(['label'],axis=1))[:,1:2]\n",
        "        tmp_answer = {}\n",
        "        for i in range(len(test_c_id)):\n",
        "            proba = predict_proba_y[i][0]\n",
        "            c_id = test_c_id[i]\n",
        "            p_id = test_p_id[i]\n",
        "            if proba > tmp_answer.get(p_id,(-1,-1))[1]:\n",
        "                tmp_answer[p_id] = (c_id,proba)\n",
        "        true = 0\n",
        "        for p_id in tmp_answer:\n",
        "            if tmp_answer[p_id][0] == answer[p_id]:\n",
        "                true += 1\n",
        "        print(true/len(test_p_ids))\n",
        "        acc += true/len(test_p_ids)\n",
        "    print('acc: ',acc/cross_size)\n",
        "    # return -acc/cross_size"
      ],
      "id": "adfd5bca",
      "execution_count": 28,
      "outputs": []
    },
    {
      "cell_type": "code",
      "metadata": {
        "colab": {
          "base_uri": "https://localhost:8080/"
        },
        "id": "4ed2cf1a",
        "outputId": "413d4942-3c7a-4407-c71c-76b6e4514bc9"
      },
      "source": [
        "%%time\n",
        "lgb=lightgbm.LGBMClassifier( objective='binary',\n",
        "                        # metric='f1_score',\n",
        "                        learning_rate=0.02,\n",
        "                        n_estimators=500,\n",
        "                        boosting= \"gbdt\",\n",
        "                        max_depth=10,\n",
        "                        num_leaves=400,\n",
        "                        feature_fraction = 0.9,  \n",
        "                        bagging_fraction = 0.95,  \n",
        "                        bagging_freq = 5, \n",
        "                        reg_alpha = 0.02,\n",
        "                        reg_lambda = 0.05,\n",
        "                        min_data_in_leaf = 20,\n",
        "                        )\n",
        "params =  {'bagging_fraction': 0.9325837890849541, 'bagging_freq': 5, 'boosting_type': 'gbdt', 'feature_fraction': 0.7015355243328362, 'learning_rate': 0.06046174903181386, 'max_depth': 8, 'min_data_in_leaf': 15, 'min_gain_to_split': 0.6093427327673105, 'n_estimators': 500, 'num_leaves': 127, 'reg_alpha': 0.1949793976192661, 'reg_lambda': 0.960591321518608}\n",
        "params = {'learning_rate': 0.017737413271505673, 'boosting_type': 'gbdt', 'objective': 'binary', 'num_leaves': 63, 'max_depth': 10, 'n_estimators': 500, 'min_data_in_leaf': 34, 'min_gain_to_split': 0.188661079484727, 'reg_alpha': 0.4248068068953985, 'reg_lambda': 1.039347932519718, 'feature_fraction': 0.9715679990466433, 'bagging_fraction': 0.6816784267307361, 'bagging_freq': 5, 'verbose': -1}\n",
        "\n",
        "lgb = lightgbm.LGBMClassifier(**params)\n",
        "cross_val(lgb)"
      ],
      "id": "4ed2cf1a",
      "execution_count": 35,
      "outputs": [
        {
          "output_type": "stream",
          "name": "stdout",
          "text": [
            "0.92\n",
            "0.9\n",
            "0.9125\n",
            "0.9125\n",
            "0.9093198992443325\n",
            "acc:  0.9108639798488666\n",
            "CPU times: user 2min 26s, sys: 610 ms, total: 2min 27s\n",
            "Wall time: 2min 26s\n"
          ]
        }
      ]
    },
    {
      "cell_type": "code",
      "metadata": {
        "colab": {
          "base_uri": "https://localhost:8080/"
        },
        "id": "374d9cbf",
        "outputId": "564cf939-f9e5-442e-c1fc-6593815daf71"
      },
      "source": [
        "lr = LogisticRegression(# class_weight={0:1,1:100},\n",
        "                        max_iter=5000,\n",
        "                        random_state=2018)\n",
        "cross_val(lr)"
      ],
      "id": "374d9cbf",
      "execution_count": 33,
      "outputs": [
        {
          "output_type": "stream",
          "name": "stdout",
          "text": [
            "0.8275\n",
            "0.795\n",
            "0.825\n",
            "0.8075\n",
            "0.8060453400503779\n",
            "acc:  0.8122090680100756\n"
          ]
        }
      ]
    },
    {
      "cell_type": "code",
      "metadata": {
        "colab": {
          "background_save": true
        },
        "id": "d2f4b36e"
      },
      "source": [
        "dtc = DecisionTreeClassifier(max_depth=5,\n",
        "                            class_weight={0:1,1:1})\n",
        "abc = AdaBoostClassifier(base_estimator = dtc,\n",
        "                        n_estimators=500,\n",
        "                        learning_rate=0.15,\n",
        "                        random_state=2019)\n",
        "cross_val(abc)"
      ],
      "id": "d2f4b36e",
      "execution_count": null,
      "outputs": []
    },
    {
      "cell_type": "code",
      "metadata": {
        "colab": {
          "base_uri": "https://localhost:8080/"
        },
        "id": "202ef6f4",
        "outputId": "b1653b12-455a-481f-fc74-d1a587ab2538"
      },
      "source": [
        "# abc.fit(train_data.drop(['c_id','p_id','label'],axis=1),train_data['label'])\n",
        "model = lgb \n",
        "model.fit(train_data.drop(['c_id','p_id','label'],axis=1),train_data['label'])"
      ],
      "id": "202ef6f4",
      "execution_count": 30,
      "outputs": [
        {
          "output_type": "execute_result",
          "data": {
            "text/plain": [
              "LGBMClassifier(bagging_fraction=0.95, bagging_freq=5, boosting='gbdt',\n",
              "               boosting_type='gbdt', class_weight=None, colsample_bytree=1.0,\n",
              "               feature_fraction=0.9, importance_type='split',\n",
              "               learning_rate=0.02, max_depth=10, min_child_samples=20,\n",
              "               min_child_weight=0.001, min_data_in_leaf=20, min_split_gain=0.0,\n",
              "               n_estimators=500, n_jobs=-1, num_leaves=400, objective='binary',\n",
              "               random_state=None, reg_alpha=0.02, reg_lambda=0.05, silent=True,\n",
              "               subsample=1.0, subsample_for_bin=200000, subsample_freq=0)"
            ]
          },
          "metadata": {},
          "execution_count": 30
        }
      ]
    },
    {
      "cell_type": "code",
      "metadata": {
        "colab": {
          "base_uri": "https://localhost:8080/"
        },
        "id": "f7cc7cc9",
        "outputId": "d1ce68b9-7090-434d-f7c1-d628f0bbc1e1"
      },
      "source": [
        "###false\n",
        "\n",
        "test_c_id = train_data['c_id']\n",
        "test_p_id = train_data['p_id']\n",
        "predict_proba_y = model.predict_proba(train_data.drop(['c_id','p_id','label'],axis=1))[:,1:2]\n",
        "tmp_answer = {}\n",
        "train_acc = 0\n",
        "false_c_id = []\n",
        "false_p_id = []\n",
        "for i in range(len(test_c_id)):\n",
        "    proba = predict_proba_y[i][0]\n",
        "    c_id = test_c_id[i]\n",
        "    p_id = test_p_id[i]\n",
        "    if proba > tmp_answer.get(p_id,(-1,-1))[1]:\n",
        "        tmp_answer[p_id] = (c_id,proba)\n",
        "test_p_id = list(set(test_p_id))\n",
        "for p_id in test_p_id:\n",
        "    if tmp_answer[p_id][0] == answer[p_id]:\n",
        "        train_acc += 1\n",
        "    else:\n",
        "        false_p_id.append(p_id)\n",
        "        false_c_id.append(tmp_answer[p_id][0])\n",
        "print(train_acc,train_acc/len(test_p_id))\n",
        "false = pd.DataFrame({'false_pids':false_p_id,\n",
        "                      'false_cids':false_c_id})\n",
        "false.to_csv('false.csv',index=False)"
      ],
      "id": "f7cc7cc9",
      "execution_count": null,
      "outputs": [
        {
          "name": "stdout",
          "output_type": "stream",
          "text": [
            "1987 0.9949924887330996\n"
          ]
        }
      ]
    },
    {
      "cell_type": "code",
      "metadata": {
        "id": "0dff64fa"
      },
      "source": [
        "\n",
        "test_c_id = test_data['c_id']\n",
        "test_p_id = test_data['p_id']\n",
        "predict_proba_y = model.predict_proba(test_data.drop(['c_id','p_id'],axis=1))[:,1:2]\n",
        "tmp_answer = {}\n",
        "for i in range(len(test_c_id)):\n",
        "    proba = predict_proba_y[i][0]\n",
        "    c_id = test_c_id[i]\n",
        "    p_id = test_p_id[i]\n",
        "    if proba > tmp_answer.get(p_id,(-1,-1))[1]:\n",
        "        tmp_answer[p_id] = (c_id,proba)\n",
        "test_p_id = list(set(test_p_id))\n",
        "test_c_id = []\n",
        "for p_id in test_p_id:\n",
        "    test_c_id.append(tmp_answer.get(p_id,'-1')[0])\n",
        "submit = pd.DataFrame({'人员编号':test_p_id,\n",
        "                       '特征码':test_c_id})\n",
        "submit.to_csv('output.csv',index=False)"
      ],
      "id": "0dff64fa",
      "execution_count": 31,
      "outputs": []
    },
    {
      "cell_type": "code",
      "metadata": {
        "colab": {
          "base_uri": "https://localhost:8080/"
        },
        "id": "6f516a9a",
        "outputId": "e9e85b6d-56ac-418e-9332-da054cbcf717"
      },
      "source": [
        "print(pd.DataFrame({\n",
        "        'column': test_data.columns[2:], \n",
        "        'importance': model.booster_.feature_importance(),\n",
        "    }).sort_values(by='importance',ascending = False))"
      ],
      "id": "6f516a9a",
      "execution_count": 32,
      "outputs": [
        {
          "output_type": "stream",
          "name": "stdout",
          "text": [
            "                     column  importance\n",
            "14                 Min_time        9840\n",
            "1          average_det_time        9615\n",
            "4   unique_average_det_time        9054\n",
            "10                dis_speed        7294\n",
            "2                cid_number        7022\n",
            "12              c_speed_min        6782\n",
            "9                   c_speed        6107\n",
            "8                   p_speed        5988\n",
            "6                  p_number        4340\n",
            "15           c_speed_change        2592\n",
            "7                pid_number        1806\n",
            "0                 pp_number        1719\n",
            "3          unique_pp_number        1186\n",
            "5                unique_lcs         964\n",
            "13            dis_speed_min         786\n",
            "16           p_speed_change         478\n",
            "11              p_speed_min           0\n"
          ]
        }
      ]
    },
    {
      "cell_type": "code",
      "metadata": {
        "colab": {
          "base_uri": "https://localhost:8080/"
        },
        "id": "68195074",
        "outputId": "32f9afbf-9800-47e2-9c1e-8324ce001df0"
      },
      "source": [
        "test_data.columns"
      ],
      "id": "68195074",
      "execution_count": null,
      "outputs": [
        {
          "data": {
            "text/plain": [
              "Index(['c_id', 'p_id', 'pp_number', 'average_det_time', 'cid_number',\n",
              "       'unique_pp_number', 'unique_average_det_time', 'unique_lcs'],\n",
              "      dtype='object')"
            ]
          },
          "execution_count": 23,
          "metadata": {},
          "output_type": "execute_result"
        }
      ]
    },
    {
      "cell_type": "code",
      "metadata": {
        "id": "e3074003"
      },
      "source": [
        "df_best = pd.read_csv('/content/output_11_4_23.csv')"
      ],
      "id": "e3074003",
      "execution_count": null,
      "outputs": []
    },
    {
      "cell_type": "code",
      "metadata": {
        "colab": {
          "base_uri": "https://localhost:8080/"
        },
        "id": "4DREBBU64ZSt",
        "outputId": "eef6e76c-48c2-401b-92e6-ef91a19b0c63"
      },
      "source": [
        "df_best.sort_values('人员编号',inplace=True)\n",
        "submit.sort_values('人员编号',inplace=True)\n",
        "num = 0\n",
        "for i,j in zip(df_best['特征码'],submit['特征码']):\n",
        "    if i!=j:\n",
        "        num += 1\n",
        "print(num)"
      ],
      "id": "4DREBBU64ZSt",
      "execution_count": null,
      "outputs": [
        {
          "output_type": "stream",
          "name": "stdout",
          "text": [
            "0\n"
          ]
        }
      ]
    },
    {
      "cell_type": "code",
      "metadata": {
        "colab": {
          "base_uri": "https://localhost:8080/",
          "height": 419
        },
        "id": "RALuZgNO4cFH",
        "outputId": "17ee60a8-e819-45f3-bc76-c3c4b8a0b4dd"
      },
      "source": [
        "submit "
      ],
      "id": "RALuZgNO4cFH",
      "execution_count": null,
      "outputs": [
        {
          "data": {
            "text/html": [
              "<div>\n",
              "<style scoped>\n",
              "    .dataframe tbody tr th:only-of-type {\n",
              "        vertical-align: middle;\n",
              "    }\n",
              "\n",
              "    .dataframe tbody tr th {\n",
              "        vertical-align: top;\n",
              "    }\n",
              "\n",
              "    .dataframe thead th {\n",
              "        text-align: right;\n",
              "    }\n",
              "</style>\n",
              "<table border=\"1\" class=\"dataframe\">\n",
              "  <thead>\n",
              "    <tr style=\"text-align: right;\">\n",
              "      <th></th>\n",
              "      <th>人员编号</th>\n",
              "      <th>特征码</th>\n",
              "    </tr>\n",
              "  </thead>\n",
              "  <tbody>\n",
              "    <tr>\n",
              "      <th>0</th>\n",
              "      <td>P0836</td>\n",
              "      <td>C9QtWNpl</td>\n",
              "    </tr>\n",
              "    <tr>\n",
              "      <th>1</th>\n",
              "      <td>P0888</td>\n",
              "      <td>CPzIxnsQ</td>\n",
              "    </tr>\n",
              "    <tr>\n",
              "      <th>2</th>\n",
              "      <td>P0934</td>\n",
              "      <td>C1W6xPCp</td>\n",
              "    </tr>\n",
              "    <tr>\n",
              "      <th>3</th>\n",
              "      <td>P0616</td>\n",
              "      <td>CQirDy2k</td>\n",
              "    </tr>\n",
              "    <tr>\n",
              "      <th>4</th>\n",
              "      <td>P0165</td>\n",
              "      <td>C4tlnf7j</td>\n",
              "    </tr>\n",
              "    <tr>\n",
              "      <th>...</th>\n",
              "      <td>...</td>\n",
              "      <td>...</td>\n",
              "    </tr>\n",
              "    <tr>\n",
              "      <th>991</th>\n",
              "      <td>P0345</td>\n",
              "      <td>CwKUR8PT</td>\n",
              "    </tr>\n",
              "    <tr>\n",
              "      <th>992</th>\n",
              "      <td>P0386</td>\n",
              "      <td>CTUFCl7y</td>\n",
              "    </tr>\n",
              "    <tr>\n",
              "      <th>993</th>\n",
              "      <td>P0658</td>\n",
              "      <td>Cka5fx4V</td>\n",
              "    </tr>\n",
              "    <tr>\n",
              "      <th>994</th>\n",
              "      <td>P0890</td>\n",
              "      <td>CkzOBbqo</td>\n",
              "    </tr>\n",
              "    <tr>\n",
              "      <th>995</th>\n",
              "      <td>P0085</td>\n",
              "      <td>Ca5zmUTY</td>\n",
              "    </tr>\n",
              "  </tbody>\n",
              "</table>\n",
              "<p>996 rows × 2 columns</p>\n",
              "</div>"
            ],
            "text/plain": [
              "      人员编号       特征码\n",
              "0    P0836  C9QtWNpl\n",
              "1    P0888  CPzIxnsQ\n",
              "2    P0934  C1W6xPCp\n",
              "3    P0616  CQirDy2k\n",
              "4    P0165  C4tlnf7j\n",
              "..     ...       ...\n",
              "991  P0345  CwKUR8PT\n",
              "992  P0386  CTUFCl7y\n",
              "993  P0658  Cka5fx4V\n",
              "994  P0890  CkzOBbqo\n",
              "995  P0085  Ca5zmUTY\n",
              "\n",
              "[996 rows x 2 columns]"
            ]
          },
          "execution_count": 31,
          "metadata": {},
          "output_type": "execute_result"
        }
      ]
    },
    {
      "cell_type": "code",
      "metadata": {
        "id": "GfUhsR326kbv"
      },
      "source": [
        "# submit = pd.read_csv('/content/output_add_speed.csv')\n",
        "df_se = pd.read_csv('/content/output_11_15.csv')"
      ],
      "id": "GfUhsR326kbv",
      "execution_count": null,
      "outputs": []
    },
    {
      "cell_type": "code",
      "metadata": {
        "colab": {
          "base_uri": "https://localhost:8080/"
        },
        "id": "89OnhkHj3qPZ",
        "outputId": "6e6e1be5-6548-4ffb-9278-55bb00d6a40d"
      },
      "source": [
        "num = 0\n",
        "ansa = {}\n",
        "ansb = {}\n",
        "ansc = {}\n",
        "for pi,pj,i,j in zip(df_best['人员编号'],submit['人员编号'],df_best['特征码'],submit['特征码']):\n",
        "  ansa[pi] = i \n",
        "  ansb[pj] = j\n",
        "for p,c in zip(df_se['人员编号'],df_se['特征码']):\n",
        "  ansc[p] = c\n",
        "\n",
        "p_ans = []\n",
        "c_ans = []\n",
        "all_diff = 0\n",
        "for p in df_best['人员编号']:\n",
        "  res = [ansa[p],ansb[p],ansc[p]]\n",
        "  p_ans.append(p)\n",
        "  rs = ansa[p]\n",
        "  if ansa[p] != ansb[p] and ansa[p]!=ansc[p] and ansb[p]!=ansc[p]:\n",
        "    rs = ansa[p] \n",
        "    all_diff += 1\n",
        "  else:\n",
        "    rs = max(res,key = res.count)\n",
        "  c_ans.append(rs)\n",
        "  if rs != ansa[p]:\n",
        "    num +=1\n",
        "    print(p,ansa[p],rs)\n",
        "print(num,all_diff)"
      ],
      "id": "89OnhkHj3qPZ",
      "execution_count": null,
      "outputs": [
        {
          "name": "stdout",
          "output_type": "stream",
          "text": [
            "P0927 C8nzP3gk CgAb8Ju4\n",
            "P0806 COCNolEG C6jbQuYe\n",
            "P0716 CxTrHqkl CSWFZ0LE\n",
            "P0045 CEiaSN40 CL0ldUEC\n",
            "P0418 CTxerhkd CWTVgGN1\n",
            "P0306 Co4s6C0S CzaQW9xh\n",
            "P0993 Cx3vlupn CGx3tXIi\n",
            "P0876 CutQIJ16 CLS8EYq6\n",
            "P0719 C5IS9sfA ChVKjnxW\n",
            "P0287 ClMCfKV9 CxEf9bD3\n",
            "P0182 CzKx4PUM CKrU67BY\n",
            "P0020 CfEF4G1y CnMdqKxh\n",
            "P0825 C5kc84PL Cz6edN1s\n",
            "P0047 CizRADpn CvVN5qmw\n",
            "P0494 C3ApMdE7 CGTSqfBz\n",
            "P0874 CWji8wC9 CbNhD8xm\n",
            "P0336 CoMxThPm C8dBCp3D\n",
            "17 2\n"
          ]
        }
      ]
    },
    {
      "cell_type": "code",
      "metadata": {
        "id": "oXeRSjnF9i-E"
      },
      "source": [
        "sbmit = pd.DataFrame({'人员编号':p_ans,\n",
        "                       '特征码':c_ans})\n",
        "sbmit.to_csv('submit_2.csv',index=False)"
      ],
      "id": "oXeRSjnF9i-E",
      "execution_count": null,
      "outputs": []
    },
    {
      "cell_type": "code",
      "metadata": {
        "colab": {
          "base_uri": "https://localhost:8080/",
          "height": 35
        },
        "id": "GHy3zfK-NVAZ",
        "outputId": "f2d81398-fbf2-48b0-e9f8-39f40e5a767d"
      },
      "source": [
        "lightgbm.__version__ \n"
      ],
      "id": "GHy3zfK-NVAZ",
      "execution_count": 21,
      "outputs": [
        {
          "output_type": "execute_result",
          "data": {
            "application/vnd.google.colaboratory.intrinsic+json": {
              "type": "string"
            },
            "text/plain": [
              "'2.2.3'"
            ]
          },
          "metadata": {},
          "execution_count": 21
        }
      ]
    }
  ]
}