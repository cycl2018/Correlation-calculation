{
  "nbformat": 4,
  "nbformat_minor": 5,
  "metadata": {
    "kernelspec": {
      "display_name": "Python 3",
      "language": "python",
      "name": "python3"
    },
    "language_info": {
      "codemirror_mode": {
        "name": "ipython",
        "version": 3
      },
      "file_extension": ".py",
      "mimetype": "text/x-python",
      "name": "python",
      "nbconvert_exporter": "python",
      "pygments_lexer": "ipython3",
      "version": "3.8.8"
    },
    "colab": {
      "name": "Model.ipynb",
      "provenance": [],
      "collapsed_sections": []
    }
  },
  "cells": [
    {
      "cell_type": "code",
      "metadata": {
        "id": "9584ce9f",
        "colab": {
          "base_uri": "https://localhost:8080/"
        },
        "outputId": "5525340d-519b-4df4-abfd-5588a52d3140"
      },
      "source": [
        "import pandas as pd\n",
        "import numpy as np\n",
        "import os\n",
        "import time, datetime\n",
        "import math\n",
        "import random\n",
        "from sklearn import preprocessing\n",
        "import torch\n",
        "from sklearn.model_selection import KFold\n",
        "import matplotlib.pyplot as plt\n",
        "import seaborn as sns\n",
        "from mlxtend.classifier import StackingCVClassifier\n",
        "from scipy.stats import norm, skew\n",
        "from scipy import stats\n",
        "from sklearn.ensemble import GradientBoostingRegressor\n",
        "from sklearn.impute import SimpleImputer\n",
        "from scipy.misc import derivative\n",
        "from sklearn.preprocessing import LabelEncoder\n",
        "from sklearn.model_selection import train_test_split, GridSearchCV\n",
        "from sklearn import linear_model, datasets\n",
        "from sklearn.linear_model import Lasso\n",
        "from sklearn.linear_model import LogisticRegression\n",
        "from sklearn.ensemble import RandomForestClassifier\n",
        "import lightgbm\n",
        "from sklearn import svm\n",
        "from sklearn.neural_network import MLPRegressor,MLPClassifier\n",
        "from sklearn.ensemble import AdaBoostClassifier\n",
        "import random\n",
        "from sklearn.metrics import roc_auc_score\n",
        "from scipy import optimize\n",
        "from scipy import special\n",
        "from imblearn.over_sampling import SMOTE\n",
        "from sklearn.decomposition import PCA\n",
        "from xgboost import XGBClassifier\n",
        "from sklearn.tree import DecisionTreeClassifier\n",
        "from sklearn.naive_bayes import MultinomialNB,BernoulliNB\n",
        "from sklearn import preprocessing\n",
        "import warnings\n",
        "warnings.filterwarnings(\"ignore\")"
      ],
      "id": "9584ce9f",
      "execution_count": 1,
      "outputs": [
        {
          "output_type": "stream",
          "name": "stderr",
          "text": [
            "/usr/local/lib/python3.7/dist-packages/sklearn/externals/six.py:31: FutureWarning: The module is deprecated in version 0.21 and will be removed in version 0.23 since we've dropped support for Python 2.7. Please rely on the official version of six (https://pypi.org/project/six/).\n",
            "  \"(https://pypi.org/project/six/).\", FutureWarning)\n",
            "/usr/local/lib/python3.7/dist-packages/sklearn/utils/deprecation.py:144: FutureWarning: The sklearn.neighbors.base module is  deprecated in version 0.22 and will be removed in version 0.24. The corresponding classes / functions should instead be imported from sklearn.neighbors. Anything that cannot be imported from sklearn.neighbors is now part of the private API.\n",
            "  warnings.warn(message, FutureWarning)\n"
          ]
        }
      ]
    },
    {
      "cell_type": "code",
      "metadata": {
        "colab": {
          "base_uri": "https://localhost:8080/"
        },
        "id": "BGnETdADSwUC",
        "outputId": "12058ec3-5533-4806-a1d7-6a3b3b29893f"
      },
      "source": [
        "from google.colab import drive\n",
        "drive.mount('/content/drive')"
      ],
      "id": "BGnETdADSwUC",
      "execution_count": 2,
      "outputs": [
        {
          "output_type": "stream",
          "name": "stdout",
          "text": [
            "Mounted at /content/drive\n"
          ]
        }
      ]
    },
    {
      "cell_type": "code",
      "metadata": {
        "id": "dc646790"
      },
      "source": [
        "#2020-11-02 18:51:24.674845\n",
        "#67884674845\n",
        "def get_time_stamp(time):\n",
        "    hh = int(time[11:11+2])\n",
        "    mm = int(time[14:14+2])\n",
        "    ii = int(time[17:17+2])\n",
        "    res = hh*3600+mm*60+ii\n",
        "    for i in range(20,len(time)):\n",
        "        res=res*10+ord(time[i])-ord('0')\n",
        "    return res"
      ],
      "id": "dc646790",
      "execution_count": 3,
      "outputs": []
    },
    {
      "cell_type": "code",
      "metadata": {
        "id": "d21d63e8"
      },
      "source": [
        "train_data_label = pd.read_csv('CCF2021_run_label_Train.csv')\n",
        "label_p_id = train_data_label['人员编号']\n",
        "label_c_id = train_data_label['特征码']\n",
        "answer = {label_p_id[i]:label_c_id[i] for i in range(len(label_p_id))}"
      ],
      "id": "d21d63e8",
      "execution_count": 4,
      "outputs": []
    },
    {
      "cell_type": "code",
      "metadata": {
        "id": "27df3adb"
      },
      "source": [
        "# train_data = pd.read_csv('train_feature.csv')\n",
        "# test_data = pd.read_csv('test_feature.csv')\n",
        "train_data = pd.read_csv('/content/drive/MyDrive/ccf data/train_feature.csv')\n",
        "test_data = pd.read_csv('/content/drive/MyDrive/ccf data/test_feature.csv')"
      ],
      "id": "27df3adb",
      "execution_count": 5,
      "outputs": []
    },
    {
      "cell_type": "code",
      "metadata": {
        "colab": {
          "base_uri": "https://localhost:8080/"
        },
        "id": "ea2c3a6b",
        "outputId": "96cbe54c-7559-47f5-9b16-97b016078594"
      },
      "source": [
        "train_data.shape,test_data.shape"
      ],
      "id": "ea2c3a6b",
      "execution_count": 6,
      "outputs": [
        {
          "output_type": "execute_result",
          "data": {
            "text/plain": [
              "((398338, 14), (196382, 13))"
            ]
          },
          "metadata": {},
          "execution_count": 6
        }
      ]
    },
    {
      "cell_type": "code",
      "metadata": {
        "id": "1bebf2b4",
        "outputId": "e2c95573-846e-44e8-f6ab-ccc3439d579b"
      },
      "source": [
        "'''\n",
        "cols = train_data.columns.tolist()\n",
        "cols.remove('c_id')\n",
        "cols.remove('p_id')\n",
        "cols.remove('label')\n",
        "for col in cols:\n",
        "    Min = min(float(train_data[col].min()),float(test_data[col].min()))\n",
        "    Max = max(float(train_data[col].max()),float(test_data[col].max()))\n",
        "    train_data.loc[:,col] = (train_data.loc[:,col]-Min)/(Max-Min)\n",
        "    test_data.loc[:,col] = (test_data.loc[:,col]-Min)/(Max-Min)\n",
        "'''"
      ],
      "id": "1bebf2b4",
      "execution_count": null,
      "outputs": [
        {
          "data": {
            "text/plain": [
              "\"\\ncols = train_data.columns.tolist()\\ncols.remove('c_id')\\ncols.remove('p_id')\\ncols.remove('label')\\nfor col in cols:\\n    Min = min(float(train_data[col].min()),float(test_data[col].min()))\\n    Max = max(float(train_data[col].max()),float(test_data[col].max()))\\n    train_data.loc[:,col] = (train_data.loc[:,col]-Min)/(Max-Min)\\n    test_data.loc[:,col] = (test_data.loc[:,col]-Min)/(Max-Min)\\n\""
            ]
          },
          "execution_count": 6,
          "metadata": {},
          "output_type": "execute_result"
        }
      ]
    },
    {
      "cell_type": "code",
      "metadata": {
        "colab": {
          "base_uri": "https://localhost:8080/",
          "height": 610
        },
        "id": "4de77339",
        "outputId": "5572413e-9f5c-4bda-befc-44694626e1be"
      },
      "source": [
        "train_data"
      ],
      "id": "4de77339",
      "execution_count": 7,
      "outputs": [
        {
          "output_type": "execute_result",
          "data": {
            "text/html": [
              "<div>\n",
              "<style scoped>\n",
              "    .dataframe tbody tr th:only-of-type {\n",
              "        vertical-align: middle;\n",
              "    }\n",
              "\n",
              "    .dataframe tbody tr th {\n",
              "        vertical-align: top;\n",
              "    }\n",
              "\n",
              "    .dataframe thead th {\n",
              "        text-align: right;\n",
              "    }\n",
              "</style>\n",
              "<table border=\"1\" class=\"dataframe\">\n",
              "  <thead>\n",
              "    <tr style=\"text-align: right;\">\n",
              "      <th></th>\n",
              "      <th>c_id</th>\n",
              "      <th>p_id</th>\n",
              "      <th>pp_number</th>\n",
              "      <th>average_det_time</th>\n",
              "      <th>cid_number</th>\n",
              "      <th>unique_pp_number</th>\n",
              "      <th>unique_average_det_time</th>\n",
              "      <th>unique_lcs</th>\n",
              "      <th>p_number</th>\n",
              "      <th>pid_number</th>\n",
              "      <th>p_speed</th>\n",
              "      <th>c_speed</th>\n",
              "      <th>dis_speed</th>\n",
              "      <th>label</th>\n",
              "    </tr>\n",
              "  </thead>\n",
              "  <tbody>\n",
              "    <tr>\n",
              "      <th>0</th>\n",
              "      <td>CY1r8Eov</td>\n",
              "      <td>P0099</td>\n",
              "      <td>0.8</td>\n",
              "      <td>3.437451e+07</td>\n",
              "      <td>558</td>\n",
              "      <td>0</td>\n",
              "      <td>1.000000e+20</td>\n",
              "      <td>2</td>\n",
              "      <td>8</td>\n",
              "      <td>10</td>\n",
              "      <td>8.764114e-10</td>\n",
              "      <td>1.264389e-09</td>\n",
              "      <td>3.879778e-10</td>\n",
              "      <td>0</td>\n",
              "    </tr>\n",
              "    <tr>\n",
              "      <th>1</th>\n",
              "      <td>CjD8XlTz</td>\n",
              "      <td>P0099</td>\n",
              "      <td>0.8</td>\n",
              "      <td>3.266357e+07</td>\n",
              "      <td>573</td>\n",
              "      <td>0</td>\n",
              "      <td>1.000000e+20</td>\n",
              "      <td>2</td>\n",
              "      <td>8</td>\n",
              "      <td>10</td>\n",
              "      <td>8.764114e-10</td>\n",
              "      <td>1.103917e-09</td>\n",
              "      <td>2.275057e-10</td>\n",
              "      <td>0</td>\n",
              "    </tr>\n",
              "    <tr>\n",
              "      <th>2</th>\n",
              "      <td>C1b6QpCZ</td>\n",
              "      <td>P0099</td>\n",
              "      <td>0.8</td>\n",
              "      <td>2.081857e+08</td>\n",
              "      <td>538</td>\n",
              "      <td>0</td>\n",
              "      <td>1.000000e+20</td>\n",
              "      <td>2</td>\n",
              "      <td>8</td>\n",
              "      <td>10</td>\n",
              "      <td>8.764114e-10</td>\n",
              "      <td>5.378414e-10</td>\n",
              "      <td>3.385700e-10</td>\n",
              "      <td>0</td>\n",
              "    </tr>\n",
              "    <tr>\n",
              "      <th>3</th>\n",
              "      <td>C1uhR4YE</td>\n",
              "      <td>P0099</td>\n",
              "      <td>0.8</td>\n",
              "      <td>1.658634e+08</td>\n",
              "      <td>543</td>\n",
              "      <td>0</td>\n",
              "      <td>1.000000e+20</td>\n",
              "      <td>2</td>\n",
              "      <td>8</td>\n",
              "      <td>10</td>\n",
              "      <td>8.764114e-10</td>\n",
              "      <td>1.134907e-09</td>\n",
              "      <td>2.584956e-10</td>\n",
              "      <td>0</td>\n",
              "    </tr>\n",
              "    <tr>\n",
              "      <th>4</th>\n",
              "      <td>CwhkYNEx</td>\n",
              "      <td>P0099</td>\n",
              "      <td>0.8</td>\n",
              "      <td>2.051248e+08</td>\n",
              "      <td>545</td>\n",
              "      <td>0</td>\n",
              "      <td>1.000000e+20</td>\n",
              "      <td>2</td>\n",
              "      <td>8</td>\n",
              "      <td>10</td>\n",
              "      <td>8.764114e-10</td>\n",
              "      <td>1.652945e-09</td>\n",
              "      <td>7.765340e-10</td>\n",
              "      <td>0</td>\n",
              "    </tr>\n",
              "    <tr>\n",
              "      <th>...</th>\n",
              "      <td>...</td>\n",
              "      <td>...</td>\n",
              "      <td>...</td>\n",
              "      <td>...</td>\n",
              "      <td>...</td>\n",
              "      <td>...</td>\n",
              "      <td>...</td>\n",
              "      <td>...</td>\n",
              "      <td>...</td>\n",
              "      <td>...</td>\n",
              "      <td>...</td>\n",
              "      <td>...</td>\n",
              "      <td>...</td>\n",
              "      <td>...</td>\n",
              "    </tr>\n",
              "    <tr>\n",
              "      <th>398333</th>\n",
              "      <td>C1mIwd2h</td>\n",
              "      <td>P1967</td>\n",
              "      <td>1.0</td>\n",
              "      <td>8.694088e+09</td>\n",
              "      <td>21</td>\n",
              "      <td>2</td>\n",
              "      <td>7.092226e+09</td>\n",
              "      <td>2</td>\n",
              "      <td>9</td>\n",
              "      <td>9</td>\n",
              "      <td>2.409650e-10</td>\n",
              "      <td>9.620614e-10</td>\n",
              "      <td>7.210963e-10</td>\n",
              "      <td>0</td>\n",
              "    </tr>\n",
              "    <tr>\n",
              "      <th>398334</th>\n",
              "      <td>C3LHAtmI</td>\n",
              "      <td>P1967</td>\n",
              "      <td>1.0</td>\n",
              "      <td>6.299373e+09</td>\n",
              "      <td>21</td>\n",
              "      <td>2</td>\n",
              "      <td>2.120187e+10</td>\n",
              "      <td>2</td>\n",
              "      <td>9</td>\n",
              "      <td>9</td>\n",
              "      <td>2.409650e-10</td>\n",
              "      <td>6.214749e-10</td>\n",
              "      <td>3.805099e-10</td>\n",
              "      <td>0</td>\n",
              "    </tr>\n",
              "    <tr>\n",
              "      <th>398335</th>\n",
              "      <td>CxHgGpZa</td>\n",
              "      <td>P1967</td>\n",
              "      <td>1.0</td>\n",
              "      <td>1.883359e+10</td>\n",
              "      <td>21</td>\n",
              "      <td>2</td>\n",
              "      <td>1.826556e+10</td>\n",
              "      <td>2</td>\n",
              "      <td>9</td>\n",
              "      <td>9</td>\n",
              "      <td>2.409650e-10</td>\n",
              "      <td>3.818395e-10</td>\n",
              "      <td>1.408745e-10</td>\n",
              "      <td>0</td>\n",
              "    </tr>\n",
              "    <tr>\n",
              "      <th>398336</th>\n",
              "      <td>CSlXVwej</td>\n",
              "      <td>P1967</td>\n",
              "      <td>1.0</td>\n",
              "      <td>7.148984e+09</td>\n",
              "      <td>21</td>\n",
              "      <td>2</td>\n",
              "      <td>2.002582e+10</td>\n",
              "      <td>2</td>\n",
              "      <td>9</td>\n",
              "      <td>9</td>\n",
              "      <td>2.409650e-10</td>\n",
              "      <td>7.984698e-10</td>\n",
              "      <td>5.575048e-10</td>\n",
              "      <td>0</td>\n",
              "    </tr>\n",
              "    <tr>\n",
              "      <th>398337</th>\n",
              "      <td>CATf58Hn</td>\n",
              "      <td>P1967</td>\n",
              "      <td>1.0</td>\n",
              "      <td>2.324671e+10</td>\n",
              "      <td>22</td>\n",
              "      <td>2</td>\n",
              "      <td>1.188714e+10</td>\n",
              "      <td>2</td>\n",
              "      <td>9</td>\n",
              "      <td>9</td>\n",
              "      <td>2.409650e-10</td>\n",
              "      <td>2.443608e-10</td>\n",
              "      <td>3.395767e-12</td>\n",
              "      <td>0</td>\n",
              "    </tr>\n",
              "  </tbody>\n",
              "</table>\n",
              "<p>398338 rows × 14 columns</p>\n",
              "</div>"
            ],
            "text/plain": [
              "            c_id   p_id  pp_number  ...       c_speed     dis_speed  label\n",
              "0       CY1r8Eov  P0099        0.8  ...  1.264389e-09  3.879778e-10      0\n",
              "1       CjD8XlTz  P0099        0.8  ...  1.103917e-09  2.275057e-10      0\n",
              "2       C1b6QpCZ  P0099        0.8  ...  5.378414e-10  3.385700e-10      0\n",
              "3       C1uhR4YE  P0099        0.8  ...  1.134907e-09  2.584956e-10      0\n",
              "4       CwhkYNEx  P0099        0.8  ...  1.652945e-09  7.765340e-10      0\n",
              "...          ...    ...        ...  ...           ...           ...    ...\n",
              "398333  C1mIwd2h  P1967        1.0  ...  9.620614e-10  7.210963e-10      0\n",
              "398334  C3LHAtmI  P1967        1.0  ...  6.214749e-10  3.805099e-10      0\n",
              "398335  CxHgGpZa  P1967        1.0  ...  3.818395e-10  1.408745e-10      0\n",
              "398336  CSlXVwej  P1967        1.0  ...  7.984698e-10  5.575048e-10      0\n",
              "398337  CATf58Hn  P1967        1.0  ...  2.443608e-10  3.395767e-12      0\n",
              "\n",
              "[398338 rows x 14 columns]"
            ]
          },
          "metadata": {},
          "execution_count": 7
        }
      ]
    },
    {
      "cell_type": "code",
      "metadata": {
        "colab": {
          "base_uri": "https://localhost:8080/",
          "height": 610
        },
        "id": "f8d25cf7",
        "outputId": "ea389f5a-17e7-4c8d-a5a5-f82cfa233ab1"
      },
      "source": [
        "test_data"
      ],
      "id": "f8d25cf7",
      "execution_count": 8,
      "outputs": [
        {
          "output_type": "execute_result",
          "data": {
            "text/html": [
              "<div>\n",
              "<style scoped>\n",
              "    .dataframe tbody tr th:only-of-type {\n",
              "        vertical-align: middle;\n",
              "    }\n",
              "\n",
              "    .dataframe tbody tr th {\n",
              "        vertical-align: top;\n",
              "    }\n",
              "\n",
              "    .dataframe thead th {\n",
              "        text-align: right;\n",
              "    }\n",
              "</style>\n",
              "<table border=\"1\" class=\"dataframe\">\n",
              "  <thead>\n",
              "    <tr style=\"text-align: right;\">\n",
              "      <th></th>\n",
              "      <th>c_id</th>\n",
              "      <th>p_id</th>\n",
              "      <th>pp_number</th>\n",
              "      <th>average_det_time</th>\n",
              "      <th>cid_number</th>\n",
              "      <th>unique_pp_number</th>\n",
              "      <th>unique_average_det_time</th>\n",
              "      <th>unique_lcs</th>\n",
              "      <th>p_number</th>\n",
              "      <th>pid_number</th>\n",
              "      <th>p_speed</th>\n",
              "      <th>c_speed</th>\n",
              "      <th>dis_speed</th>\n",
              "    </tr>\n",
              "  </thead>\n",
              "  <tbody>\n",
              "    <tr>\n",
              "      <th>0</th>\n",
              "      <td>CbsTmlCa</td>\n",
              "      <td>P0021</td>\n",
              "      <td>1.000000</td>\n",
              "      <td>3.168358e+07</td>\n",
              "      <td>554</td>\n",
              "      <td>4</td>\n",
              "      <td>2.511770e+08</td>\n",
              "      <td>4</td>\n",
              "      <td>10</td>\n",
              "      <td>10</td>\n",
              "      <td>3.664351e-10</td>\n",
              "      <td>1.960694e-09</td>\n",
              "      <td>1.594258e-09</td>\n",
              "    </tr>\n",
              "    <tr>\n",
              "      <th>1</th>\n",
              "      <td>CNgGnr1x</td>\n",
              "      <td>P0021</td>\n",
              "      <td>0.900000</td>\n",
              "      <td>3.725253e+07</td>\n",
              "      <td>551</td>\n",
              "      <td>3</td>\n",
              "      <td>3.441018e+08</td>\n",
              "      <td>4</td>\n",
              "      <td>9</td>\n",
              "      <td>10</td>\n",
              "      <td>3.664351e-10</td>\n",
              "      <td>2.562120e-09</td>\n",
              "      <td>2.195685e-09</td>\n",
              "    </tr>\n",
              "    <tr>\n",
              "      <th>2</th>\n",
              "      <td>CL0ldUEC</td>\n",
              "      <td>P0021</td>\n",
              "      <td>0.900000</td>\n",
              "      <td>4.142315e+07</td>\n",
              "      <td>554</td>\n",
              "      <td>3</td>\n",
              "      <td>4.301807e+08</td>\n",
              "      <td>4</td>\n",
              "      <td>9</td>\n",
              "      <td>10</td>\n",
              "      <td>3.664351e-10</td>\n",
              "      <td>1.398465e-09</td>\n",
              "      <td>1.032030e-09</td>\n",
              "    </tr>\n",
              "    <tr>\n",
              "      <th>3</th>\n",
              "      <td>Cg4mji7e</td>\n",
              "      <td>P0021</td>\n",
              "      <td>0.900000</td>\n",
              "      <td>4.176179e+07</td>\n",
              "      <td>541</td>\n",
              "      <td>3</td>\n",
              "      <td>2.823182e+08</td>\n",
              "      <td>4</td>\n",
              "      <td>9</td>\n",
              "      <td>10</td>\n",
              "      <td>3.664351e-10</td>\n",
              "      <td>1.427462e-09</td>\n",
              "      <td>1.061027e-09</td>\n",
              "    </tr>\n",
              "    <tr>\n",
              "      <th>4</th>\n",
              "      <td>CEiaSN40</td>\n",
              "      <td>P0021</td>\n",
              "      <td>0.900000</td>\n",
              "      <td>2.576683e+08</td>\n",
              "      <td>543</td>\n",
              "      <td>3</td>\n",
              "      <td>5.605908e+09</td>\n",
              "      <td>4</td>\n",
              "      <td>9</td>\n",
              "      <td>10</td>\n",
              "      <td>3.664351e-10</td>\n",
              "      <td>2.047915e-09</td>\n",
              "      <td>1.681479e-09</td>\n",
              "    </tr>\n",
              "    <tr>\n",
              "      <th>...</th>\n",
              "      <td>...</td>\n",
              "      <td>...</td>\n",
              "      <td>...</td>\n",
              "      <td>...</td>\n",
              "      <td>...</td>\n",
              "      <td>...</td>\n",
              "      <td>...</td>\n",
              "      <td>...</td>\n",
              "      <td>...</td>\n",
              "      <td>...</td>\n",
              "      <td>...</td>\n",
              "      <td>...</td>\n",
              "      <td>...</td>\n",
              "    </tr>\n",
              "    <tr>\n",
              "      <th>196377</th>\n",
              "      <td>CV9ngSKy</td>\n",
              "      <td>P0838</td>\n",
              "      <td>0.857143</td>\n",
              "      <td>1.679306e+09</td>\n",
              "      <td>19</td>\n",
              "      <td>1</td>\n",
              "      <td>4.588114e+08</td>\n",
              "      <td>1</td>\n",
              "      <td>6</td>\n",
              "      <td>7</td>\n",
              "      <td>2.142635e-10</td>\n",
              "      <td>1.537771e-10</td>\n",
              "      <td>6.048637e-11</td>\n",
              "    </tr>\n",
              "    <tr>\n",
              "      <th>196378</th>\n",
              "      <td>ClU4aBYz</td>\n",
              "      <td>P0838</td>\n",
              "      <td>1.000000</td>\n",
              "      <td>6.296622e+09</td>\n",
              "      <td>19</td>\n",
              "      <td>2</td>\n",
              "      <td>1.944902e+10</td>\n",
              "      <td>2</td>\n",
              "      <td>7</td>\n",
              "      <td>7</td>\n",
              "      <td>2.142635e-10</td>\n",
              "      <td>2.376588e-10</td>\n",
              "      <td>2.339536e-11</td>\n",
              "    </tr>\n",
              "    <tr>\n",
              "      <th>196379</th>\n",
              "      <td>CZu7nAtb</td>\n",
              "      <td>P0838</td>\n",
              "      <td>1.000000</td>\n",
              "      <td>1.692636e+10</td>\n",
              "      <td>20</td>\n",
              "      <td>2</td>\n",
              "      <td>9.038338e+09</td>\n",
              "      <td>2</td>\n",
              "      <td>7</td>\n",
              "      <td>7</td>\n",
              "      <td>2.142635e-10</td>\n",
              "      <td>2.802341e-10</td>\n",
              "      <td>6.597060e-11</td>\n",
              "    </tr>\n",
              "    <tr>\n",
              "      <th>196380</th>\n",
              "      <td>CaJvM9G1</td>\n",
              "      <td>P0838</td>\n",
              "      <td>1.000000</td>\n",
              "      <td>1.476212e+09</td>\n",
              "      <td>48</td>\n",
              "      <td>2</td>\n",
              "      <td>2.048379e+09</td>\n",
              "      <td>2</td>\n",
              "      <td>7</td>\n",
              "      <td>7</td>\n",
              "      <td>2.142635e-10</td>\n",
              "      <td>9.899794e-10</td>\n",
              "      <td>7.757159e-10</td>\n",
              "    </tr>\n",
              "    <tr>\n",
              "      <th>196381</th>\n",
              "      <td>Cold2LWV</td>\n",
              "      <td>P0838</td>\n",
              "      <td>0.142857</td>\n",
              "      <td>7.875020e+07</td>\n",
              "      <td>82</td>\n",
              "      <td>1</td>\n",
              "      <td>1.400289e+08</td>\n",
              "      <td>1</td>\n",
              "      <td>1</td>\n",
              "      <td>7</td>\n",
              "      <td>2.142635e-10</td>\n",
              "      <td>1.122508e-09</td>\n",
              "      <td>9.082442e-10</td>\n",
              "    </tr>\n",
              "  </tbody>\n",
              "</table>\n",
              "<p>196382 rows × 13 columns</p>\n",
              "</div>"
            ],
            "text/plain": [
              "            c_id   p_id  pp_number  ...       p_speed       c_speed     dis_speed\n",
              "0       CbsTmlCa  P0021   1.000000  ...  3.664351e-10  1.960694e-09  1.594258e-09\n",
              "1       CNgGnr1x  P0021   0.900000  ...  3.664351e-10  2.562120e-09  2.195685e-09\n",
              "2       CL0ldUEC  P0021   0.900000  ...  3.664351e-10  1.398465e-09  1.032030e-09\n",
              "3       Cg4mji7e  P0021   0.900000  ...  3.664351e-10  1.427462e-09  1.061027e-09\n",
              "4       CEiaSN40  P0021   0.900000  ...  3.664351e-10  2.047915e-09  1.681479e-09\n",
              "...          ...    ...        ...  ...           ...           ...           ...\n",
              "196377  CV9ngSKy  P0838   0.857143  ...  2.142635e-10  1.537771e-10  6.048637e-11\n",
              "196378  ClU4aBYz  P0838   1.000000  ...  2.142635e-10  2.376588e-10  2.339536e-11\n",
              "196379  CZu7nAtb  P0838   1.000000  ...  2.142635e-10  2.802341e-10  6.597060e-11\n",
              "196380  CaJvM9G1  P0838   1.000000  ...  2.142635e-10  9.899794e-10  7.757159e-10\n",
              "196381  Cold2LWV  P0838   0.142857  ...  2.142635e-10  1.122508e-09  9.082442e-10\n",
              "\n",
              "[196382 rows x 13 columns]"
            ]
          },
          "metadata": {},
          "execution_count": 8
        }
      ]
    },
    {
      "cell_type": "code",
      "metadata": {
        "id": "b45ccda6"
      },
      "source": [
        ""
      ],
      "id": "b45ccda6",
      "execution_count": null,
      "outputs": []
    },
    {
      "cell_type": "code",
      "metadata": {
        "id": "93417e9c"
      },
      "source": [
        "p_ids = []\n",
        "def init(data):\n",
        "    global p_ids\n",
        "    p_ids = data['p_id'].unique().tolist()"
      ],
      "id": "93417e9c",
      "execution_count": 9,
      "outputs": []
    },
    {
      "cell_type": "code",
      "metadata": {
        "id": "40d2ed5e"
      },
      "source": [
        "init(train_data)"
      ],
      "id": "40d2ed5e",
      "execution_count": 10,
      "outputs": []
    },
    {
      "cell_type": "code",
      "metadata": {
        "id": "adfd5bca"
      },
      "source": [
        "cross_size = 5\n",
        "def cross_val(model):\n",
        "    global cross_val,p_ids\n",
        "    acc = 0.0\n",
        "    for cross in range(cross_size):\n",
        "        train_p_ids = set(random.sample(p_ids,k=int(len(p_ids)*0.8)))\n",
        "        test_p_ids = set()\n",
        "        train_index = []\n",
        "        test_index = []\n",
        "        for p_id in p_ids:\n",
        "            if p_id not in train_p_ids:\n",
        "                test_p_ids.add(p_id)\n",
        "        train_index = train_data[train_data['p_id'].isin(train_p_ids)].index.tolist()\n",
        "        test_index = train_data[train_data['p_id'].isin(test_p_ids)].index.tolist()\n",
        "        small_train_data = train_data.iloc[train_index].drop(['c_id','p_id'],axis=1)\n",
        "        small_test_data = train_data.iloc[test_index]\n",
        "        test_c_id = small_test_data['c_id'].tolist()\n",
        "        test_p_id = small_test_data['p_id'].tolist()\n",
        "        small_test_data.drop(['c_id','p_id'],axis=1,inplace=True)\n",
        "        model.fit(small_train_data.drop(['label'],axis=1),small_train_data['label'])\n",
        "        predict_proba_y = model.predict_proba(small_test_data.drop(['label'],axis=1))[:,1:2]\n",
        "        tmp_answer = {}\n",
        "        for i in range(len(test_c_id)):\n",
        "            proba = predict_proba_y[i][0]\n",
        "            c_id = test_c_id[i]\n",
        "            p_id = test_p_id[i]\n",
        "            if proba > tmp_answer.get(p_id,(-1,-1))[1]:\n",
        "                tmp_answer[p_id] = (c_id,proba)\n",
        "        true = 0\n",
        "        for p_id in tmp_answer:\n",
        "            if tmp_answer[p_id][0] == answer[p_id]:\n",
        "                true += 1\n",
        "        print(true,len(test_p_ids),true/len(test_p_ids))\n",
        "        acc += true/len(test_p_ids)\n",
        "    print('acc: ',acc/cross_size)"
      ],
      "id": "adfd5bca",
      "execution_count": 11,
      "outputs": []
    },
    {
      "cell_type": "code",
      "metadata": {
        "colab": {
          "base_uri": "https://localhost:8080/"
        },
        "id": "4ed2cf1a",
        "outputId": "ad572272-c591-4b47-8bb1-bc22c0e594c3"
      },
      "source": [
        "%%time\n",
        "lgb=lightgbm.LGBMClassifier( objective='binary',\n",
        "                        # metric='f1_score',\n",
        "                        learning_rate=0.01,\n",
        "                        n_estimators=500,\n",
        "                        boosting= \"gbdt\",\n",
        "                        max_depth=10,\n",
        "                        num_leaves=500,\n",
        "                        feature_fraction = 0.9,  \n",
        "                        bagging_fraction = 0.95,  \n",
        "                        bagging_freq = 5, \n",
        "                        )\n",
        "cross_val(lgb)"
      ],
      "id": "4ed2cf1a",
      "execution_count": 12,
      "outputs": [
        {
          "output_type": "stream",
          "name": "stdout",
          "text": [
            "357 400 0.8925\n",
            "346 400 0.865\n",
            "358 400 0.895\n",
            "350 400 0.875\n",
            "356 400 0.89\n",
            "acc:  0.8835\n",
            "CPU times: user 4min 14s, sys: 1.62 s, total: 4min 15s\n",
            "Wall time: 4min 15s\n"
          ]
        }
      ]
    },
    {
      "cell_type": "code",
      "metadata": {
        "colab": {
          "base_uri": "https://localhost:8080/"
        },
        "id": "374d9cbf",
        "outputId": "ae292db7-14fe-4239-a993-5143526d984a"
      },
      "source": [
        "lr = LogisticRegression(class_weight={0:1,1:100},\n",
        "                        max_iter=5000,\n",
        "                        random_state=2018)\n",
        "cross_val(lr)"
      ],
      "id": "374d9cbf",
      "execution_count": 13,
      "outputs": [
        {
          "output_type": "stream",
          "name": "stdout",
          "text": [
            "319 400 0.7975\n",
            "329 400 0.8225\n",
            "332 400 0.83\n",
            "320 400 0.8\n",
            "330 400 0.825\n",
            "acc:  0.8150000000000001\n"
          ]
        }
      ]
    },
    {
      "cell_type": "code",
      "metadata": {
        "colab": {
          "base_uri": "https://localhost:8080/"
        },
        "id": "d2f4b36e",
        "outputId": "ce5062ad-8c25-4dc0-d741-56d02b396dae"
      },
      "source": [
        "dtc = DecisionTreeClassifier(max_depth=1,\n",
        "                            class_weight={0:1,1:1})\n",
        "abc = AdaBoostClassifier(base_estimator = dtc,\n",
        "                        n_estimators=500,\n",
        "                        learning_rate=0.15,\n",
        "                        random_state=2019)\n",
        "cross_val(abc)"
      ],
      "id": "d2f4b36e",
      "execution_count": null,
      "outputs": [
        {
          "output_type": "stream",
          "name": "stdout",
          "text": [
            "348 400 0.87\n",
            "346 400 0.865\n",
            "347 400 0.8675\n",
            "334 400 0.835\n",
            "342 400 0.855\n",
            "acc:  0.8585\n"
          ]
        }
      ]
    },
    {
      "cell_type": "code",
      "metadata": {
        "colab": {
          "base_uri": "https://localhost:8080/"
        },
        "id": "202ef6f4",
        "outputId": "d96f1a50-e3a5-4c69-828f-d9dba8d887c4"
      },
      "source": [
        "# abc.fit(train_data.drop(['c_id','p_id','label'],axis=1),train_data['label'])\n",
        "model = lgb \n",
        "model.fit(train_data.drop(['c_id','p_id','label'],axis=1),train_data['label'])"
      ],
      "id": "202ef6f4",
      "execution_count": 14,
      "outputs": [
        {
          "output_type": "execute_result",
          "data": {
            "text/plain": [
              "LGBMClassifier(bagging_fraction=0.95, bagging_freq=5, boosting='gbdt',\n",
              "               boosting_type='gbdt', class_weight=None, colsample_bytree=1.0,\n",
              "               feature_fraction=0.9, importance_type='split',\n",
              "               learning_rate=0.01, max_depth=10, min_child_samples=20,\n",
              "               min_child_weight=0.001, min_split_gain=0.0, n_estimators=500,\n",
              "               n_jobs=-1, num_leaves=500, objective='binary', random_state=None,\n",
              "               reg_alpha=0.0, reg_lambda=0.0, silent=True, subsample=1.0,\n",
              "               subsample_for_bin=200000, subsample_freq=0)"
            ]
          },
          "metadata": {},
          "execution_count": 14
        }
      ]
    },
    {
      "cell_type": "code",
      "metadata": {
        "id": "f7cc7cc9"
      },
      "source": [
        "###false\n",
        "\n",
        "test_c_id = train_data['c_id']\n",
        "test_p_id = train_data['p_id']\n",
        "predict_proba_y = model.predict_proba(train_data.drop(['c_id','p_id','label'],axis=1))[:,1:2]\n",
        "tmp_answer = {}\n",
        "train_acc = 0\n",
        "false_c_id = []\n",
        "false_p_id = []\n",
        "for i in range(len(test_c_id)):\n",
        "    proba = predict_proba_y[i][0]\n",
        "    c_id = test_c_id[i]\n",
        "    p_id = test_p_id[i]\n",
        "    if proba > tmp_answer.get(p_id,(-1,-1))[1]:\n",
        "        tmp_answer[p_id] = (c_id,proba)\n",
        "test_p_id = list(set(test_p_id))\n",
        "for p_id in test_p_id:\n",
        "    if tmp_answer[p_id][0] == answer[p_id]:\n",
        "        train_acc += 1\n",
        "    else:\n",
        "        false_p_id.append(p_id)\n",
        "        false_c_id.append(tmp_answer[p_id][0])\n",
        "print(train_acc,train_acc/len(test_p_id))\n",
        "false = pd.DataFrame({'false_pids':false_p_id,\n",
        "                      'false_cids':false_c_id})\n",
        "false.to_csv('false.csv',index=False)"
      ],
      "id": "f7cc7cc9",
      "execution_count": null,
      "outputs": []
    },
    {
      "cell_type": "code",
      "metadata": {
        "id": "0dff64fa"
      },
      "source": [
        "\n",
        "test_c_id = test_data['c_id']\n",
        "test_p_id = test_data['p_id']\n",
        "predict_proba_y = model.predict_proba(test_data.drop(['c_id','p_id'],axis=1))[:,1:2]\n",
        "tmp_answer = {}\n",
        "for i in range(len(test_c_id)):\n",
        "    proba = predict_proba_y[i][0]\n",
        "    c_id = test_c_id[i]\n",
        "    p_id = test_p_id[i]\n",
        "    if proba > tmp_answer.get(p_id,(-1,-1))[1]:\n",
        "        tmp_answer[p_id] = (c_id,proba)\n",
        "test_p_id = list(set(test_p_id))\n",
        "test_c_id = []\n",
        "for p_id in test_p_id:\n",
        "    test_c_id.append(tmp_answer.get(p_id,'-1')[0])\n",
        "submit = pd.DataFrame({'人员编号':test_p_id,\n",
        "                       '特征码':test_c_id})\n",
        "submit.to_csv('output.csv',index=False)"
      ],
      "id": "0dff64fa",
      "execution_count": 15,
      "outputs": []
    },
    {
      "cell_type": "code",
      "metadata": {
        "id": "6f516a9a",
        "colab": {
          "base_uri": "https://localhost:8080/"
        },
        "outputId": "29f36f02-4177-4ea5-c221-b862e11dab40"
      },
      "source": [
        "print(pd.DataFrame({\n",
        "        'column': test_data.columns[2:], \n",
        "        'importance': model.booster_.feature_importance(),\n",
        "    }).sort_values(by='importance',ascending = False))"
      ],
      "id": "6f516a9a",
      "execution_count": null,
      "outputs": [
        {
          "output_type": "stream",
          "name": "stdout",
          "text": [
            "                    column  importance\n",
            "4  unique_average_det_time       63574\n",
            "1         average_det_time       56029\n",
            "2               cid_number       42806\n",
            "3         unique_pp_number       16552\n",
            "0                pp_number       16282\n",
            "5               unique_lcs       12017\n"
          ]
        }
      ]
    },
    {
      "cell_type": "code",
      "metadata": {
        "id": "68195074",
        "colab": {
          "base_uri": "https://localhost:8080/"
        },
        "outputId": "32f9afbf-9800-47e2-9c1e-8324ce001df0"
      },
      "source": [
        "test_data.columns"
      ],
      "id": "68195074",
      "execution_count": null,
      "outputs": [
        {
          "output_type": "execute_result",
          "data": {
            "text/plain": [
              "Index(['c_id', 'p_id', 'pp_number', 'average_det_time', 'cid_number',\n",
              "       'unique_pp_number', 'unique_average_det_time', 'unique_lcs'],\n",
              "      dtype='object')"
            ]
          },
          "metadata": {},
          "execution_count": 23
        }
      ]
    },
    {
      "cell_type": "code",
      "metadata": {
        "id": "e3074003"
      },
      "source": [
        ""
      ],
      "id": "e3074003",
      "execution_count": null,
      "outputs": []
    }
  ]
}